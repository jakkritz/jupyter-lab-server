{
 "cells": [
  {
   "cell_type": "markdown",
   "metadata": {},
   "source": [
    "## %matplotlib inline\n",
    "%reload_ext autoreload\n",
    "%autoreload 2"
   ]
  },
  {
   "cell_type": "code",
   "execution_count": 3,
   "metadata": {},
   "outputs": [],
   "source": [
    "# batch size \n",
    "bs = 32"
   ]
  },
  {
   "cell_type": "code",
   "execution_count": 2,
   "metadata": {},
   "outputs": [],
   "source": [
    "from fastai import *\n",
    "from fastai.vision import *\n",
    "from fastai.metrics import error_rate, accuracy\n",
    "import torch"
   ]
  },
  {
   "cell_type": "code",
   "execution_count": 4,
   "metadata": {},
   "outputs": [
    {
     "data": {
      "text/plain": [
       "True"
      ]
     },
     "execution_count": 4,
     "metadata": {},
     "output_type": "execute_result"
    }
   ],
   "source": [
    "# check CUDA\n",
    "torch.cuda.is_available()"
   ]
  },
  {
   "cell_type": "markdown",
   "metadata": {},
   "source": [
    "## Create DataSet\n",
    "- using this tools https://github.com/phe-sto/google-images-download"
   ]
  },
  {
   "cell_type": "code",
   "execution_count": 5,
   "metadata": {},
   "outputs": [
    {
     "ename": "ModuleNotFoundError",
     "evalue": "No module named 'google_images_download'",
     "output_type": "error",
     "traceback": [
      "\u001b[0;31m-------------------------------------------------------------------\u001b[0m",
      "\u001b[0;31mModuleNotFoundError\u001b[0m               Traceback (most recent call last)",
      "\u001b[0;32m<ipython-input-5-376f5952f3cb>\u001b[0m in \u001b[0;36m<module>\u001b[0;34m\u001b[0m\n\u001b[0;32m----> 1\u001b[0;31m \u001b[0;32mfrom\u001b[0m \u001b[0mgoogle_images_download\u001b[0m \u001b[0;32mimport\u001b[0m \u001b[0mgoogle_images_download\u001b[0m\u001b[0;34m\u001b[0m\u001b[0;34m\u001b[0m\u001b[0m\n\u001b[0m",
      "\u001b[0;31mModuleNotFoundError\u001b[0m: No module named 'google_images_download'"
     ]
    }
   ],
   "source": [
    "from google_images_download import google_images_download"
   ]
  },
  {
   "cell_type": "code",
   "execution_count": 18,
   "metadata": {
    "collapsed": true,
    "jupyter": {
     "outputs_hidden": true
    }
   },
   "outputs": [
    {
     "name": "stdout",
     "output_type": "stream",
     "text": [
      "({'รถสองแถว': ['/home/jakkrit/Desktop/Machine-Learning-Projects/Projects/ThaiVehicleClassification/downloads/รถสองแถว/1_ 1216.jpg', '/home/jakkrit/Desktop/Machine-Learning-Projects/Projects/ThaiVehicleClassification/downloads/รถสองแถว/2_ yusai_kk.png', '/home/jakkrit/Desktop/Machine-Learning-Projects/Projects/ThaiVehicleClassification/downloads/รถสองแถว/3_ songteaw-huahin.jpg', '/home/jakkrit/Desktop/Machine-Learning-Projects/Projects/ThaiVehicleClassification/downloads/รถสองแถว/4_ %e0%b8%a3%e0%b8%96%e0%b8%aa%e0%b8%ad%e0%b8%87%e0%b9%81%e0%b8%96%e0%b8%a7-%e0%b9%84%e0%b8%9b%e0%b9%84%e0%b8%ad%e0%b9%82%e0%b8%a1%e0%b8%9a%e0%b8%b2%e0%b8%a2.png', '/home/jakkrit/Desktop/Machine-Learning-Projects/Projects/ThaiVehicleClassification/downloads/รถสองแถว/5_ dsc0373-1024x680.jpg', '/home/jakkrit/Desktop/Machine-Learning-Projects/Projects/ThaiVehicleClassification/downloads/รถสองแถว/6_ %e0%b8%a3%e0%b8%96%e0%b8%aa%e0%b8%ad%e0%b8%87%e0%b9%81%e0%b8%96%e0%b8%a72.jpg', '/home/jakkrit/Desktop/Machine-Learning-Projects/Projects/ThaiVehicleClassification/downloads/รถสองแถว/7_ 20190828142049.jpg', '/home/jakkrit/Desktop/Machine-Learning-Projects/Projects/ThaiVehicleClassification/downloads/รถสองแถว/8_ ?media_id=158293908044049.jpg', '/home/jakkrit/Desktop/Machine-Learning-Projects/Projects/ThaiVehicleClassification/downloads/รถสองแถว/9_ 562000002281801.jpeg', '/home/jakkrit/Desktop/Machine-Learning-Projects/Projects/ThaiVehicleClassification/downloads/รถสองแถว/10_ %25e0%25b8%25a3%25e0%25b8%2596%25e0%25b8%25aa%25e0%25b8%25ad%25e0%25b8%2587%25e0%25b9%2581%25e0%25b8%2596%25e0%25b8%25a7.jpg', '/home/jakkrit/Desktop/Machine-Learning-Projects/Projects/ThaiVehicleClassification/downloads/รถสองแถว/11_ maxresdefault.jpg', '/home/jakkrit/Desktop/Machine-Learning-Projects/Projects/ThaiVehicleClassification/downloads/รถสองแถว/12_ huahin-palau-songteaw.jpg', '/home/jakkrit/Desktop/Machine-Learning-Projects/Projects/ThaiVehicleClassification/downloads/รถสองแถว/13_ 456819.jpg', '/home/jakkrit/Desktop/Machine-Learning-Projects/Projects/ThaiVehicleClassification/downloads/รถสองแถว/14_ lbs1317pca.jpg', '/home/jakkrit/Desktop/Machine-Learning-Projects/Projects/ThaiVehicleClassification/downloads/รถสองแถว/15_ ?media_id=457552937916803.jpg', '/home/jakkrit/Desktop/Machine-Learning-Projects/Projects/ThaiVehicleClassification/downloads/รถสองแถว/16_ %e0%b8%a3%e0%b8%96%e0%b8%aa%e0%b8%ad%e0%b8%87%e0%b9%81%e0%b8%96%e0%b8%a7%20%e0%b8%aa%e0%b8%81%e0%b8%a5%e0%b8%99%e0%b8%84%e0%b8%a3%2059%20%20(5).jpg', '/home/jakkrit/Desktop/Machine-Learning-Projects/Projects/ThaiVehicleClassification/downloads/รถสองแถว/17_ o4a91nnw6y9k7qqdd8r-o.jpg', '/home/jakkrit/Desktop/Machine-Learning-Projects/Projects/ThaiVehicleClassification/downloads/รถสองแถว/18_ 562000002281802.jpeg', '/home/jakkrit/Desktop/Machine-Learning-Projects/Projects/ThaiVehicleClassification/downloads/รถสองแถว/19_ maxresdefault.jpg', '/home/jakkrit/Desktop/Machine-Learning-Projects/Projects/ThaiVehicleClassification/downloads/รถสองแถว/20_ 33a7ae5aaaea499ba88935e6b51acf47.jpg', '/home/jakkrit/Desktop/Machine-Learning-Projects/Projects/ThaiVehicleClassification/downloads/รถสองแถว/21_ --02.jpg', '/home/jakkrit/Desktop/Machine-Learning-Projects/Projects/ThaiVehicleClassification/downloads/รถสองแถว/22_ ?media_id=1503658463275934.jpg', '/home/jakkrit/Desktop/Machine-Learning-Projects/Projects/ThaiVehicleClassification/downloads/รถสองแถว/23_ caption.jpg', '/home/jakkrit/Desktop/Machine-Learning-Projects/Projects/ThaiVehicleClassification/downloads/รถสองแถว/24_ 562000002281803.jpeg', '/home/jakkrit/Desktop/Machine-Learning-Projects/Projects/ThaiVehicleClassification/downloads/รถสองแถว/25_ 50804.jpg', '/home/jakkrit/Desktop/Machine-Learning-Projects/Projects/ThaiVehicleClassification/downloads/รถสองแถว/26_ 2222.jpg', '/home/jakkrit/Desktop/Machine-Learning-Projects/Projects/ThaiVehicleClassification/downloads/รถสองแถว/27_ id_30563_58bf9024c0b9e.jpg', '/home/jakkrit/Desktop/Machine-Learning-Projects/Projects/ThaiVehicleClassification/downloads/รถสองแถว/28_ cover_2row_00.jpg', '/home/jakkrit/Desktop/Machine-Learning-Projects/Projects/ThaiVehicleClassification/downloads/รถสองแถว/29_ ?media_id=773188522695938.jpg', '/home/jakkrit/Desktop/Machine-Learning-Projects/Projects/ThaiVehicleClassification/downloads/รถสองแถว/30_ %e0%b8%a3%e0%b8%96%e0%b8%aa%e0%b8%ad%e0%b8%87%e0%b9%81%e0%b8%96%e0%b8%a77-700x525.jpg', '/home/jakkrit/Desktop/Machine-Learning-Projects/Projects/ThaiVehicleClassification/downloads/รถสองแถว/31_ news29427_855.jpg', '/home/jakkrit/Desktop/Machine-Learning-Projects/Projects/ThaiVehicleClassification/downloads/รถสองแถว/32_ s_193728_1180.jpg', '/home/jakkrit/Desktop/Machine-Learning-Projects/Projects/ThaiVehicleClassification/downloads/รถสองแถว/33_ 4dqpjutzluwmjzzpgsaxoza6nugtrem7ejohsqdqrhqp.jpg', '/home/jakkrit/Desktop/Machine-Learning-Projects/Projects/ThaiVehicleClassification/downloads/รถสองแถว/34_ om5a9sjcp1x9dddoebh-o.jpg', '/home/jakkrit/Desktop/Machine-Learning-Projects/Projects/ThaiVehicleClassification/downloads/รถสองแถว/35_ songtaew-phuket1.jpg', '/home/jakkrit/Desktop/Machine-Learning-Projects/Projects/ThaiVehicleClassification/downloads/รถสองแถว/36_ dsc_0268.jpg', '/home/jakkrit/Desktop/Machine-Learning-Projects/Projects/ThaiVehicleClassification/downloads/รถสองแถว/37_ 2348f7d03c774ac387d6170a56c32502.jpg', '/home/jakkrit/Desktop/Machine-Learning-Projects/Projects/ThaiVehicleClassification/downloads/รถสองแถว/38_ w644.jpg', '/home/jakkrit/Desktop/Machine-Learning-Projects/Projects/ThaiVehicleClassification/downloads/รถสองแถว/39_ f27e72d8eccd9cb950ca32d761c4059f.jpeg', '/home/jakkrit/Desktop/Machine-Learning-Projects/Projects/ThaiVehicleClassification/downloads/รถสองแถว/40_ image_750x_5d1c7f59f4197.jpg', '/home/jakkrit/Desktop/Machine-Learning-Projects/Projects/ThaiVehicleClassification/downloads/รถสองแถว/41_ 20190227_110208-1280x720.jpg', '/home/jakkrit/Desktop/Machine-Learning-Projects/Projects/ThaiVehicleClassification/downloads/รถสองแถว/42_ img_display.jpg', '/home/jakkrit/Desktop/Machine-Learning-Projects/Projects/ThaiVehicleClassification/downloads/รถสองแถว/43_ 1368685138-45311201-o.jpg', '/home/jakkrit/Desktop/Machine-Learning-Projects/Projects/ThaiVehicleClassification/downloads/รถสองแถว/44_ 2.png', '', '/home/jakkrit/Desktop/Machine-Learning-Projects/Projects/ThaiVehicleClassification/downloads/รถสองแถว/46_ 4-23.jpg', '/home/jakkrit/Desktop/Machine-Learning-Projects/Projects/ThaiVehicleClassification/downloads/รถสองแถว/47_ b40ca9eeac509753db09450e36041ece33859052c43c34d041c14b53741549ac.jpg', '/home/jakkrit/Desktop/Machine-Learning-Projects/Projects/ThaiVehicleClassification/downloads/รถสองแถว/48_ %e0%b8%9b%e0%b8%81-2-%e0%b9%81%e0%b8%96%e0%b8%a7-1.jpg', '/home/jakkrit/Desktop/Machine-Learning-Projects/Projects/ThaiVehicleClassification/downloads/รถสองแถว/49_ 5_15.jpg', '/home/jakkrit/Desktop/Machine-Learning-Projects/Projects/ThaiVehicleClassification/downloads/รถสองแถว/50_ 52360837_1-%e0%b8%a3%e0%b8%96%e0%b8%aa%e0%b8%ad%e0%b8%87%e0%b9%81%e0%b8%96%e0%b8%a7.jpg', '/home/jakkrit/Desktop/Machine-Learning-Projects/Projects/ThaiVehicleClassification/downloads/รถสองแถว/51_ 456819.jpg', '/home/jakkrit/Desktop/Machine-Learning-Projects/Projects/ThaiVehicleClassification/downloads/รถสองแถว/52_ ?media_id=158011084738998.jpg', '/home/jakkrit/Desktop/Machine-Learning-Projects/Projects/ThaiVehicleClassification/downloads/รถสองแถว/53_ 925.jpg', '/home/jakkrit/Desktop/Machine-Learning-Projects/Projects/ThaiVehicleClassification/downloads/รถสองแถว/54_ pr_news14525.jpg', '/home/jakkrit/Desktop/Machine-Learning-Projects/Projects/ThaiVehicleClassification/downloads/รถสองแถว/55_ 000-163-1280x720.jpg', '/home/jakkrit/Desktop/Machine-Learning-Projects/Projects/ThaiVehicleClassification/downloads/รถสองแถว/56_ 4585858125.jpg', '/home/jakkrit/Desktop/Machine-Learning-Projects/Projects/ThaiVehicleClassification/downloads/รถสองแถว/57_ %25e0%25b8%25aa%25e0%25b8%25ad%25e0%25b8%2587%25e0%25b9%2581%25e0%25b8%2596%25e0%25b8%25a71-01.jpg', '/home/jakkrit/Desktop/Machine-Learning-Projects/Projects/ThaiVehicleClassification/downloads/รถสองแถว/58_ news46698_855.jpg', '', '/home/jakkrit/Desktop/Machine-Learning-Projects/Projects/ThaiVehicleClassification/downloads/รถสองแถว/60_ img_0034.jpg', '/home/jakkrit/Desktop/Machine-Learning-Projects/Projects/ThaiVehicleClassification/downloads/รถสองแถว/61_ 1311.jpg', '/home/jakkrit/Desktop/Machine-Learning-Projects/Projects/ThaiVehicleClassification/downloads/รถสองแถว/62_ 4dqpjutzluwmjzzpg19q68cqxzg3sfc8akyimfbgjcyv.jpg', '/home/jakkrit/Desktop/Machine-Learning-Projects/Projects/ThaiVehicleClassification/downloads/รถสองแถว/63_ nz76mb9mehnemxak5e6-o.jpg', '/home/jakkrit/Desktop/Machine-Learning-Projects/Projects/ThaiVehicleClassification/downloads/รถสองแถว/64_ 1364868037-11-o.jpg', '/home/jakkrit/Desktop/Machine-Learning-Projects/Projects/ThaiVehicleClassification/downloads/รถสองแถว/65_ 42337b53-41765464_1608845542554603_2099410147775348736_o-e1536977227891-800x531.jpg', '/home/jakkrit/Desktop/Machine-Learning-Projects/Projects/ThaiVehicleClassification/downloads/รถสองแถว/66_ 5ab60784-d4db-4888-8615-0a38b07803bf.jpeg', '/home/jakkrit/Desktop/Machine-Learning-Projects/Projects/ThaiVehicleClassification/downloads/รถสองแถว/67_ img_0025.jpg', '/home/jakkrit/Desktop/Machine-Learning-Projects/Projects/ThaiVehicleClassification/downloads/รถสองแถว/68_ c8231514-8a36-4584-ad6e-d08ea0584a41_cx0_cy7_cw0_w408_r1_s.jpg', '/home/jakkrit/Desktop/Machine-Learning-Projects/Projects/ThaiVehicleClassification/downloads/รถสองแถว/69_ %e0%b8%9b%e0%b8%a3%e0%b8%b0%e0%b8%a2%e0%b8%b8%e0%b8%97%e0%b8%98%e0%b9%8c-%e0%b8%82%e0%b8%b1%e0%b8%9a%e0%b8%a3%e0%b8%963-700x466.jpg', '/home/jakkrit/Desktop/Machine-Learning-Projects/Projects/ThaiVehicleClassification/downloads/รถสองแถว/70_ 999%e0%b8%ad%e0%b8%a2%e0%b8%b8%e0%b8%98%e0%b8%a2%e0%b8%b2(2).jpg', '/home/jakkrit/Desktop/Machine-Learning-Projects/Projects/ThaiVehicleClassification/downloads/รถสองแถว/71_ lbs1317pcb.jpg', '/home/jakkrit/Desktop/Machine-Learning-Projects/Projects/ThaiVehicleClassification/downloads/รถสองแถว/72_ %e0%b8%aa%e0%b8%ad%e0%b8%87%e0%b9%81%e0%b8%96%e0%b8%a7-1.jpg', '/home/jakkrit/Desktop/Machine-Learning-Projects/Projects/ThaiVehicleClassification/downloads/รถสองแถว/73_ icom%e0%b8%a3%e0%b8%96png.jpg', '/home/jakkrit/Desktop/Machine-Learning-Projects/Projects/ThaiVehicleClassification/downloads/รถสองแถว/74_ %e0%b8%aa%e0%b8%ad%e0%b8%87%e0%b9%81%e0%b8%96%e0%b8%a7.jpg', '/home/jakkrit/Desktop/Machine-Learning-Projects/Projects/ThaiVehicleClassification/downloads/รถสองแถว/75_ dsc_0257.jpg', '/home/jakkrit/Desktop/Machine-Learning-Projects/Projects/ThaiVehicleClassification/downloads/รถสองแถว/76_ ahr0chm6ly9zlmlzyw5vb2suy29tl25zlzavdwqvmtu1mc83nzuymdu1lzquanbn.jpg', '/home/jakkrit/Desktop/Machine-Learning-Projects/Projects/ThaiVehicleClassification/downloads/รถสองแถว/77_ %e0%b8%9b%e0%b9%89%e0%b8%b2%e0%b8%a2%e0%b8%82%e0%b9%89%e0%b8%b2%e0%b8%87%e0%b8%a3%e0%b8%96%e0%b8%aa%e0%b8%ad%e0%b8%87%e0%b9%81%e0%b8%96%e0%b8%a7%20%e0%b8%99%e0%b8%84%e0%b8%a3%e0%b8%9e%e0%b8%99%e0%b8%a1%2059%20(4).jpg', '/home/jakkrit/Desktop/Machine-Learning-Projects/Projects/ThaiVehicleClassification/downloads/รถสองแถว/78_ 05.jpg', '/home/jakkrit/Desktop/Machine-Learning-Projects/Projects/ThaiVehicleClassification/downloads/รถสองแถว/79_ 5c7d007903da8.jpg', '/home/jakkrit/Desktop/Machine-Learning-Projects/Projects/ThaiVehicleClassification/downloads/รถสองแถว/80_ %e0%b9%82%e0%b8%86%e0%b8%a9%e0%b8%93%e0%b8%b2-%e0%b8%82%e0%b9%89%e0%b8%b2%e0%b8%87%e0%b8%a3%e0%b8%96%e0%b8%aa%e0%b8%ad%e0%b8%87%e0%b9%81%e0%b8%96%e0%b8%a7-02.jpg', '/home/jakkrit/Desktop/Machine-Learning-Projects/Projects/ThaiVehicleClassification/downloads/รถสองแถว/81_ img_9928.jpg', '/home/jakkrit/Desktop/Machine-Learning-Projects/Projects/ThaiVehicleClassification/downloads/รถสองแถว/82_ phglma7uf2fmd9ftw2fx-o.jpg', '/home/jakkrit/Desktop/Machine-Learning-Projects/Projects/ThaiVehicleClassification/downloads/รถสองแถว/83_ g0dl5opyrtt5hbai37ttyysyyl64f0phjcodgiyhnk4htz9hd67uma.jpg', '/home/jakkrit/Desktop/Machine-Learning-Projects/Projects/ThaiVehicleClassification/downloads/รถสองแถว/84_ ?media_id=167106847217832.jpg', '/home/jakkrit/Desktop/Machine-Learning-Projects/Projects/ThaiVehicleClassification/downloads/รถสองแถว/85_ 19215.jpg', '/home/jakkrit/Desktop/Machine-Learning-Projects/Projects/ThaiVehicleClassification/downloads/รถสองแถว/86_ 1550629807_84754_vlcsnap-2019-02-20-09h21m21s440.jpg', '/home/jakkrit/Desktop/Machine-Learning-Projects/Projects/ThaiVehicleClassification/downloads/รถสองแถว/87_ image_big_5b25c0a807bda.jpg', '/home/jakkrit/Desktop/Machine-Learning-Projects/Projects/ThaiVehicleClassification/downloads/รถสองแถว/88_ a4(33).jpg', '/home/jakkrit/Desktop/Machine-Learning-Projects/Projects/ThaiVehicleClassification/downloads/รถสองแถว/89_ 2015f61d-ceee-466d-9695-ab42a8438025.jpg', '/home/jakkrit/Desktop/Machine-Learning-Projects/Projects/ThaiVehicleClassification/downloads/รถสองแถว/90_ cjrw4mivaaefell.jpg', '/home/jakkrit/Desktop/Machine-Learning-Projects/Projects/ThaiVehicleClassification/downloads/รถสองแถว/91_ 561000002295301.jpeg', '/home/jakkrit/Desktop/Machine-Learning-Projects/Projects/ThaiVehicleClassification/downloads/รถสองแถว/92_ 201611111458552-20150518130435.jpg', '/home/jakkrit/Desktop/Machine-Learning-Projects/Projects/ThaiVehicleClassification/downloads/รถสองแถว/93_ %e0%b9%82%e0%b8%9b%e0%b9%8a-%e0%b8%a3%e0%b8%96%e0%b8%aa%e0%b8%ad%e0%b8%87%e0%b9%81%e0%b8%96%e0%b8%a7-cover1.jpg', '/home/jakkrit/Desktop/Machine-Learning-Projects/Projects/ThaiVehicleClassification/downloads/รถสองแถว/94_ 11-7.jpg', '/home/jakkrit/Desktop/Machine-Learning-Projects/Projects/ThaiVehicleClassification/downloads/รถสองแถว/95_ content-458850-835ff75471930dc7bcf5da26acf7792e.jpg', '/home/jakkrit/Desktop/Machine-Learning-Projects/Projects/ThaiVehicleClassification/downloads/รถสองแถว/96_ %e0%b8%a5%e0%b8%b8%e0%b8%87.jpg']}, 'https://www.google.com/search?q=%E0%B8%A3%E0%B8%96%E0%B8%AA%E0%B8%AD%E0%B8%87%E0%B9%81%E0%B8%96%E0%B8%A7&espv=2&biw=1366&bih=667&site=webhp&source=lnms&tbm=isch&tbs=&sa=X&ei=XosDVaCXD8TasATItgE&ved=0CAcQ_AUoAg')\n"
     ]
    }
   ],
   "source": [
    "res = google_images_download.GoogleImageDownload({\"keywords\": \"รถสองแถว\", \"print_urls\": True}) \n",
    "paths = res.download()\n",
    "print(paths)"
   ]
  },
  {
   "cell_type": "markdown",
   "metadata": {},
   "source": [
    "### Upload files to Colab (just in case of training on TPU)"
   ]
  },
  {
   "cell_type": "code",
   "execution_count": null,
   "metadata": {
    "collapsed": true,
    "jupyter": {
     "outputs_hidden": true
    }
   },
   "outputs": [
    {
     "name": "stderr",
     "output_type": "stream",
     "text": [
      "[autoreload of IPython.core.ultratb failed: Traceback (most recent call last):\n",
      "  File \"/home/jakkrit/.virtualenvs/fastai/lib/python3.6/site-packages/IPython/extensions/autoreload.py\", line 245, in check\n",
      "    if do_reload:\n",
      "  File \"/home/jakkrit/.virtualenvs/fastai/lib/python3.6/site-packages/IPython/extensions/autoreload.py\", line 394, in superreload\n",
      "  File \"/home/jakkrit/.virtualenvs/fastai/lib/python3.6/imp.py\", line 315, in reload\n",
      "    return importlib.reload(module)\n",
      "  File \"/home/jakkrit/.virtualenvs/fastai/lib/python3.6/importlib/__init__.py\", line 166, in reload\n",
      "    _bootstrap._exec(spec, module)\n",
      "  File \"<frozen importlib._bootstrap>\", line 618, in _exec\n",
      "  File \"<frozen importlib._bootstrap_external>\", line 678, in exec_module\n",
      "  File \"<frozen importlib._bootstrap>\", line 219, in _call_with_frames_removed\n",
      "  File \"/home/jakkrit/.virtualenvs/fastai/lib/python3.6/site-packages/IPython/core/ultratb.py\", line 131, in <module>\n",
      "    import IPython.utils.colorable as colorable\n",
      "AttributeError: module 'IPython' has no attribute 'utils'\n",
      "]\n",
      "[autoreload of IPython.utils.ipstruct failed: Traceback (most recent call last):\n",
      "  File \"/home/jakkrit/.virtualenvs/fastai/lib/python3.6/site-packages/IPython/extensions/autoreload.py\", line 245, in check\n",
      "    if do_reload:\n",
      "  File \"/home/jakkrit/.virtualenvs/fastai/lib/python3.6/site-packages/IPython/extensions/autoreload.py\", line 410, in superreload\n",
      "    # IPython connectivity\n",
      "  File \"/home/jakkrit/.virtualenvs/fastai/lib/python3.6/site-packages/IPython/extensions/autoreload.py\", line 347, in update_generic\n",
      "  File \"/home/jakkrit/.virtualenvs/fastai/lib/python3.6/site-packages/IPython/extensions/autoreload.py\", line 317, in update_class\n",
      "    update_property),\n",
      "  File \"/home/jakkrit/.virtualenvs/fastai/lib/python3.6/site-packages/IPython/extensions/autoreload.py\", line 280, in update_instances\n",
      "    old_obj = getattr(old, key)\n",
      "  File \"/home/jakkrit/.virtualenvs/fastai/lib/python3.6/site-packages/IPython/utils/ipstruct.py\", line 118, in __setattr__\n",
      "    'attr %s is a protected member of class Struct.' % key\n",
      "AttributeError: attr __class__ is a protected member of class Struct.\n",
      "]\n",
      "[autoreload of IPython.core.display failed: Traceback (most recent call last):\n",
      "  File \"/home/jakkrit/.virtualenvs/fastai/lib/python3.6/site-packages/IPython/extensions/autoreload.py\", line 245, in check\n",
      "    if do_reload:\n",
      "  File \"/home/jakkrit/.virtualenvs/fastai/lib/python3.6/site-packages/IPython/extensions/autoreload.py\", line 410, in superreload\n",
      "    # IPython connectivity\n",
      "  File \"/home/jakkrit/.virtualenvs/fastai/lib/python3.6/site-packages/IPython/extensions/autoreload.py\", line 347, in update_generic\n",
      "  File \"/home/jakkrit/.virtualenvs/fastai/lib/python3.6/site-packages/IPython/extensions/autoreload.py\", line 302, in update_class\n",
      "    update_generic(old.fdel, new.fdel)\n",
      "  File \"/home/jakkrit/.virtualenvs/fastai/lib/python3.6/site-packages/IPython/extensions/autoreload.py\", line 347, in update_generic\n",
      "  File \"/home/jakkrit/.virtualenvs/fastai/lib/python3.6/site-packages/IPython/extensions/autoreload.py\", line 266, in update_function\n",
      "ValueError: __init__() requires a code object with 1 free vars, not 0\n",
      "]\n",
      "[autoreload of IPython.terminal.interactiveshell failed: Traceback (most recent call last):\n",
      "  File \"/home/jakkrit/.virtualenvs/fastai/lib/python3.6/site-packages/IPython/extensions/autoreload.py\", line 245, in check\n",
      "    if do_reload:\n",
      "  File \"/home/jakkrit/.virtualenvs/fastai/lib/python3.6/site-packages/IPython/extensions/autoreload.py\", line 394, in superreload\n",
      "  File \"/home/jakkrit/.virtualenvs/fastai/lib/python3.6/imp.py\", line 315, in reload\n",
      "    return importlib.reload(module)\n",
      "  File \"/home/jakkrit/.virtualenvs/fastai/lib/python3.6/importlib/__init__.py\", line 166, in reload\n",
      "    _bootstrap._exec(spec, module)\n",
      "  File \"<frozen importlib._bootstrap>\", line 618, in _exec\n",
      "  File \"<frozen importlib._bootstrap_external>\", line 678, in exec_module\n",
      "  File \"<frozen importlib._bootstrap>\", line 219, in _call_with_frames_removed\n",
      "  File \"/home/jakkrit/.virtualenvs/fastai/lib/python3.6/site-packages/IPython/terminal/interactiveshell.py\", line 20, in <module>\n",
      "    from prompt_toolkit.shortcuts import create_prompt_application, create_eventloop, create_prompt_layout, create_output\n",
      "ImportError: cannot import name 'create_prompt_application'\n",
      "]\n",
      "[autoreload of IPython.terminal.debugger failed: Traceback (most recent call last):\n",
      "  File \"/home/jakkrit/.virtualenvs/fastai/lib/python3.6/site-packages/IPython/extensions/autoreload.py\", line 245, in check\n",
      "    if do_reload:\n",
      "  File \"/home/jakkrit/.virtualenvs/fastai/lib/python3.6/site-packages/IPython/extensions/autoreload.py\", line 394, in superreload\n",
      "  File \"/home/jakkrit/.virtualenvs/fastai/lib/python3.6/imp.py\", line 315, in reload\n",
      "    return importlib.reload(module)\n",
      "  File \"/home/jakkrit/.virtualenvs/fastai/lib/python3.6/importlib/__init__.py\", line 166, in reload\n",
      "    _bootstrap._exec(spec, module)\n",
      "  File \"<frozen importlib._bootstrap>\", line 618, in _exec\n",
      "  File \"<frozen importlib._bootstrap_external>\", line 678, in exec_module\n",
      "  File \"<frozen importlib._bootstrap>\", line 219, in _call_with_frames_removed\n",
      "  File \"/home/jakkrit/.virtualenvs/fastai/lib/python3.6/site-packages/IPython/terminal/debugger.py\", line 14, in <module>\n",
      "    from prompt_toolkit.key_binding.manager import KeyBindingManager\n",
      "ModuleNotFoundError: No module named 'prompt_toolkit.key_binding.manager'\n",
      "]\n",
      "[autoreload of IPython.utils.generics failed: Traceback (most recent call last):\n",
      "  File \"/home/jakkrit/.virtualenvs/fastai/lib/python3.6/site-packages/IPython/extensions/autoreload.py\", line 245, in check\n",
      "    if do_reload:\n",
      "  File \"/home/jakkrit/.virtualenvs/fastai/lib/python3.6/site-packages/IPython/extensions/autoreload.py\", line 410, in superreload\n",
      "    # IPython connectivity\n",
      "  File \"/home/jakkrit/.virtualenvs/fastai/lib/python3.6/site-packages/IPython/extensions/autoreload.py\", line 347, in update_generic\n",
      "  File \"/home/jakkrit/.virtualenvs/fastai/lib/python3.6/site-packages/IPython/extensions/autoreload.py\", line 266, in update_function\n",
      "ValueError: inspect_object() requires a code object with 2 free vars, not 4\n",
      "]\n",
      "[autoreload of IPython.terminal.ptutils failed: Traceback (most recent call last):\n",
      "  File \"/home/jakkrit/.virtualenvs/fastai/lib/python3.6/site-packages/IPython/extensions/autoreload.py\", line 245, in check\n",
      "    if do_reload:\n",
      "  File \"/home/jakkrit/.virtualenvs/fastai/lib/python3.6/site-packages/IPython/extensions/autoreload.py\", line 394, in superreload\n",
      "  File \"/home/jakkrit/.virtualenvs/fastai/lib/python3.6/imp.py\", line 315, in reload\n",
      "    return importlib.reload(module)\n",
      "  File \"/home/jakkrit/.virtualenvs/fastai/lib/python3.6/importlib/__init__.py\", line 166, in reload\n",
      "    _bootstrap._exec(spec, module)\n",
      "  File \"<frozen importlib._bootstrap>\", line 618, in _exec\n",
      "  File \"<frozen importlib._bootstrap_external>\", line 678, in exec_module\n",
      "  File \"<frozen importlib._bootstrap>\", line 219, in _call_with_frames_removed\n",
      "  File \"/home/jakkrit/.virtualenvs/fastai/lib/python3.6/site-packages/IPython/terminal/ptutils.py\", line 17, in <module>\n",
      "    from prompt_toolkit.layout.lexers import Lexer\n",
      "ModuleNotFoundError: No module named 'prompt_toolkit.layout.lexers'\n",
      "]\n",
      "[autoreload of IPython.terminal.shortcuts failed: Traceback (most recent call last):\n",
      "  File \"/home/jakkrit/.virtualenvs/fastai/lib/python3.6/site-packages/IPython/extensions/autoreload.py\", line 245, in check\n",
      "    if do_reload:\n",
      "  File \"/home/jakkrit/.virtualenvs/fastai/lib/python3.6/site-packages/IPython/extensions/autoreload.py\", line 394, in superreload\n",
      "  File \"/home/jakkrit/.virtualenvs/fastai/lib/python3.6/imp.py\", line 315, in reload\n",
      "    return importlib.reload(module)\n",
      "  File \"/home/jakkrit/.virtualenvs/fastai/lib/python3.6/importlib/__init__.py\", line 166, in reload\n",
      "    _bootstrap._exec(spec, module)\n",
      "  File \"<frozen importlib._bootstrap>\", line 618, in _exec\n",
      "  File \"<frozen importlib._bootstrap_external>\", line 678, in exec_module\n",
      "  File \"<frozen importlib._bootstrap>\", line 219, in _call_with_frames_removed\n",
      "  File \"/home/jakkrit/.virtualenvs/fastai/lib/python3.6/site-packages/IPython/terminal/shortcuts.py\", line 13, in <module>\n",
      "    @Condition\n",
      "  File \"/home/jakkrit/.virtualenvs/fastai/lib/python3.6/site-packages/prompt_toolkit/filters/base.py\", line 212, in __init__\n",
      "    assert test_callable_args(func, [])\n",
      "AssertionError\n",
      "]\n",
      "[autoreload of IPython.lib.clipboard failed: Traceback (most recent call last):\n",
      "  File \"/home/jakkrit/.virtualenvs/fastai/lib/python3.6/site-packages/IPython/extensions/autoreload.py\", line 245, in check\n",
      "    if do_reload:\n",
      "  File \"/home/jakkrit/.virtualenvs/fastai/lib/python3.6/site-packages/IPython/extensions/autoreload.py\", line 394, in superreload\n",
      "  File \"/home/jakkrit/.virtualenvs/fastai/lib/python3.6/imp.py\", line 315, in reload\n",
      "    return importlib.reload(module)\n",
      "  File \"/home/jakkrit/.virtualenvs/fastai/lib/python3.6/importlib/__init__.py\", line 166, in reload\n",
      "    _bootstrap._exec(spec, module)\n",
      "  File \"<frozen importlib._bootstrap>\", line 618, in _exec\n",
      "  File \"<frozen importlib._bootstrap_external>\", line 678, in exec_module\n",
      "  File \"<frozen importlib._bootstrap>\", line 219, in _call_with_frames_removed\n",
      "  File \"/home/jakkrit/.virtualenvs/fastai/lib/python3.6/site-packages/IPython/lib/clipboard.py\", line 7, in <module>\n",
      "    import IPython.utils.py3compat as py3compat\n",
      "AttributeError: module 'IPython' has no attribute 'utils'\n",
      "]\n",
      "[autoreload of IPython.terminal.prompts failed: Traceback (most recent call last):\n",
      "  File \"/home/jakkrit/.virtualenvs/fastai/lib/python3.6/site-packages/IPython/extensions/autoreload.py\", line 245, in check\n",
      "    if do_reload:\n",
      "  File \"/home/jakkrit/.virtualenvs/fastai/lib/python3.6/site-packages/IPython/extensions/autoreload.py\", line 394, in superreload\n",
      "  File \"/home/jakkrit/.virtualenvs/fastai/lib/python3.6/imp.py\", line 315, in reload\n",
      "    return importlib.reload(module)\n",
      "  File \"/home/jakkrit/.virtualenvs/fastai/lib/python3.6/importlib/__init__.py\", line 166, in reload\n",
      "    _bootstrap._exec(spec, module)\n",
      "  File \"<frozen importlib._bootstrap>\", line 618, in _exec\n",
      "  File \"<frozen importlib._bootstrap_external>\", line 678, in exec_module\n",
      "  File \"<frozen importlib._bootstrap>\", line 219, in _call_with_frames_removed\n",
      "  File \"/home/jakkrit/.virtualenvs/fastai/lib/python3.6/site-packages/IPython/terminal/prompts.py\", line 9, in <module>\n",
      "    from prompt_toolkit.layout.utils import token_list_width\n",
      "ImportError: cannot import name 'token_list_width'\n",
      "]\n"
     ]
    }
   ],
   "source": [
    "from google.colab import files\n",
    "uploaded = files.upload()\n",
    " \n",
    "for fn in uploaded.keys():\n",
    "  print('User uploaded file \"{name}\" with length {length} bytes'.format(\n",
    "      name=fn, length=len(uploaded[fn])))"
   ]
  },
  {
   "cell_type": "markdown",
   "metadata": {},
   "source": [
    "### Check out downloaded images"
   ]
  },
  {
   "cell_type": "code",
   "execution_count": 6,
   "metadata": {},
   "outputs": [
    {
     "name": "stdout",
     "output_type": "stream",
     "text": [
      "No. of labels: 1\n",
      "-----------------\n",
      "รถสองแถว, 56 files\n"
     ]
    }
   ],
   "source": [
    "import os\n",
    "\n",
    "labels = os.listdir(\"downloads\")\n",
    "print(\"No. of labels: {}\".format(len(labels)))\n",
    "print(\"-----------------\")\n",
    "\n",
    "for label in labels:\n",
    "    print(\"{}, {} files\".format(label, len(os.listdir(\"downloads/\"+label))))"
   ]
  },
  {
   "cell_type": "code",
   "execution_count": 7,
   "metadata": {},
   "outputs": [],
   "source": [
    "import numpy as np\n",
    "from PIL import Image"
   ]
  },
  {
   "cell_type": "code",
   "execution_count": 8,
   "metadata": {},
   "outputs": [
    {
     "ename": "IndexError",
     "evalue": "list index out of range",
     "output_type": "error",
     "traceback": [
      "\u001b[0;31m-------------------------------------------------------------------\u001b[0m",
      "\u001b[0;31mIndexError\u001b[0m                        Traceback (most recent call last)",
      "\u001b[0;32m<ipython-input-8-79fec924d5c7>\u001b[0m in \u001b[0;36m<module>\u001b[0;34m\u001b[0m\n\u001b[1;32m      4\u001b[0m \u001b[0;32mfor\u001b[0m \u001b[0mrow\u001b[0m \u001b[0;32min\u001b[0m \u001b[0max\u001b[0m\u001b[0;34m:\u001b[0m\u001b[0;34m\u001b[0m\u001b[0;34m\u001b[0m\u001b[0m\n\u001b[1;32m      5\u001b[0m     \u001b[0;32mfor\u001b[0m \u001b[0mcol\u001b[0m \u001b[0;32min\u001b[0m \u001b[0mrow\u001b[0m\u001b[0;34m:\u001b[0m\u001b[0;34m\u001b[0m\u001b[0;34m\u001b[0m\u001b[0m\n\u001b[0;32m----> 6\u001b[0;31m         \u001b[0mimage_name\u001b[0m \u001b[0;34m=\u001b[0m \u001b[0mnp\u001b[0m\u001b[0;34m.\u001b[0m\u001b[0mrandom\u001b[0m\u001b[0;34m.\u001b[0m\u001b[0mchoice\u001b[0m\u001b[0;34m(\u001b[0m\u001b[0mos\u001b[0m\u001b[0;34m.\u001b[0m\u001b[0mlistdir\u001b[0m\u001b[0;34m(\u001b[0m\u001b[0;34m\"downloads/\"\u001b[0m \u001b[0;34m+\u001b[0m \u001b[0mlabels\u001b[0m\u001b[0;34m[\u001b[0m\u001b[0mcnt\u001b[0m\u001b[0;34m]\u001b[0m\u001b[0;34m)\u001b[0m\u001b[0;34m)\u001b[0m\u001b[0;34m\u001b[0m\u001b[0;34m\u001b[0m\u001b[0m\n\u001b[0m\u001b[1;32m      7\u001b[0m         \u001b[0mim\u001b[0m \u001b[0;34m=\u001b[0m \u001b[0mImage\u001b[0m\u001b[0;34m.\u001b[0m\u001b[0mopen\u001b[0m\u001b[0;34m(\u001b[0m\u001b[0;34m\"downloads/{}/{}\"\u001b[0m\u001b[0;34m.\u001b[0m\u001b[0mformat\u001b[0m\u001b[0;34m(\u001b[0m\u001b[0mlabels\u001b[0m\u001b[0;34m[\u001b[0m\u001b[0mcnt\u001b[0m\u001b[0;34m]\u001b[0m\u001b[0;34m,\u001b[0m\u001b[0mimage_name\u001b[0m\u001b[0;34m)\u001b[0m\u001b[0;34m)\u001b[0m\u001b[0;34m\u001b[0m\u001b[0;34m\u001b[0m\u001b[0m\n\u001b[1;32m      8\u001b[0m         \u001b[0mcol\u001b[0m\u001b[0;34m.\u001b[0m\u001b[0mimshow\u001b[0m\u001b[0;34m(\u001b[0m\u001b[0mim\u001b[0m\u001b[0;34m)\u001b[0m\u001b[0;34m\u001b[0m\u001b[0;34m\u001b[0m\u001b[0m\n",
      "\u001b[0;31mIndexError\u001b[0m: list index out of range"
     ]
    },
    {
     "name": "stderr",
     "output_type": "stream",
     "text": [
      "/home/jakkrit/.virtualenvs/ml/lib/python3.6/site-packages/matplotlib/backends/backend_agg.py:211: RuntimeWarning: Glyph 3619 missing from current font.\n",
      "  font.set_text(s, 0.0, flags=flags)\n",
      "/home/jakkrit/.virtualenvs/ml/lib/python3.6/site-packages/matplotlib/backends/backend_agg.py:211: RuntimeWarning: Glyph 3606 missing from current font.\n",
      "  font.set_text(s, 0.0, flags=flags)\n",
      "/home/jakkrit/.virtualenvs/ml/lib/python3.6/site-packages/matplotlib/backends/backend_agg.py:211: RuntimeWarning: Glyph 3626 missing from current font.\n",
      "  font.set_text(s, 0.0, flags=flags)\n",
      "/home/jakkrit/.virtualenvs/ml/lib/python3.6/site-packages/matplotlib/backends/backend_agg.py:211: RuntimeWarning: Glyph 3629 missing from current font.\n",
      "  font.set_text(s, 0.0, flags=flags)\n",
      "/home/jakkrit/.virtualenvs/ml/lib/python3.6/site-packages/matplotlib/backends/backend_agg.py:211: RuntimeWarning: Glyph 3591 missing from current font.\n",
      "  font.set_text(s, 0.0, flags=flags)\n",
      "/home/jakkrit/.virtualenvs/ml/lib/python3.6/site-packages/matplotlib/backends/backend_agg.py:211: RuntimeWarning: Glyph 3649 missing from current font.\n",
      "  font.set_text(s, 0.0, flags=flags)\n",
      "/home/jakkrit/.virtualenvs/ml/lib/python3.6/site-packages/matplotlib/backends/backend_agg.py:211: RuntimeWarning: Glyph 3623 missing from current font.\n",
      "  font.set_text(s, 0.0, flags=flags)\n",
      "/home/jakkrit/.virtualenvs/ml/lib/python3.6/site-packages/matplotlib/backends/backend_agg.py:180: RuntimeWarning: Glyph 3619 missing from current font.\n",
      "  font.set_text(s, 0, flags=flags)\n",
      "/home/jakkrit/.virtualenvs/ml/lib/python3.6/site-packages/matplotlib/backends/backend_agg.py:180: RuntimeWarning: Glyph 3606 missing from current font.\n",
      "  font.set_text(s, 0, flags=flags)\n",
      "/home/jakkrit/.virtualenvs/ml/lib/python3.6/site-packages/matplotlib/backends/backend_agg.py:180: RuntimeWarning: Glyph 3626 missing from current font.\n",
      "  font.set_text(s, 0, flags=flags)\n",
      "/home/jakkrit/.virtualenvs/ml/lib/python3.6/site-packages/matplotlib/backends/backend_agg.py:180: RuntimeWarning: Glyph 3629 missing from current font.\n",
      "  font.set_text(s, 0, flags=flags)\n",
      "/home/jakkrit/.virtualenvs/ml/lib/python3.6/site-packages/matplotlib/backends/backend_agg.py:180: RuntimeWarning: Glyph 3591 missing from current font.\n",
      "  font.set_text(s, 0, flags=flags)\n",
      "/home/jakkrit/.virtualenvs/ml/lib/python3.6/site-packages/matplotlib/backends/backend_agg.py:180: RuntimeWarning: Glyph 3649 missing from current font.\n",
      "  font.set_text(s, 0, flags=flags)\n",
      "/home/jakkrit/.virtualenvs/ml/lib/python3.6/site-packages/matplotlib/backends/backend_agg.py:180: RuntimeWarning: Glyph 3623 missing from current font.\n",
      "  font.set_text(s, 0, flags=flags)\n"
     ]
    },
    {
     "data": {
      "image/png": "[encoded data removed]",
      "text/plain": [
       "<Figure size 432x288 with 15 Axes>"
      ]
     },
     "metadata": {
      "needs_background": "light"
     },
     "output_type": "display_data"
    }
   ],
   "source": [
    "fig, ax = plt.subplots(nrows=5, ncols=3)\n",
    "# fig.tight_layout()\n",
    "cnt = 0\n",
    "for row in ax:\n",
    "    for col in row:\n",
    "        image_name = np.random.choice(os.listdir(\"downloads/\" + labels[cnt]))\n",
    "        im = Image.open(\"downloads/{}/{}\".format(labels[cnt],image_name))\n",
    "        col.imshow(im)\n",
    "        col.set_title(labels[cnt])\n",
    "        col.axis('off')\n",
    "        cnt += 1\n",
    "plt.show()"
   ]
  },
  {
   "cell_type": "code",
   "execution_count": 9,
   "metadata": {},
   "outputs": [
    {
     "name": "stderr",
     "output_type": "stream",
     "text": [
      "/home/jakkrit/.virtualenvs/ml/lib/python3.6/site-packages/fastai/data_block.py:454: UserWarning: Your training set is empty. If this is by design, pass `ignore_empty=True` to remove this warning.\n",
      "  warn(\"Your training set is empty. If this is by design, pass `ignore_empty=True` to remove this warning.\")\n",
      "/home/jakkrit/.virtualenvs/ml/lib/python3.6/site-packages/fastai/data_block.py:457: UserWarning: Your validation set is empty. If this is by design, use `split_none()`\n",
      "                 or pass `ignore_empty=True` when labelling to remove this warning.\n",
      "  or pass `ignore_empty=True` when labelling to remove this warning.\"\"\")\n"
     ]
    },
    {
     "ename": "IndexError",
     "evalue": "index 0 is out of bounds for axis 0 with size 0",
     "output_type": "error",
     "traceback": [
      "\u001b[0;31m-------------------------------------------------------------------\u001b[0m",
      "\u001b[0;31mIndexError\u001b[0m                        Traceback (most recent call last)",
      "\u001b[0;32m<ipython-input-9-54751c205a81>\u001b[0m in \u001b[0;36m<module>\u001b[0;34m\u001b[0m\n\u001b[1;32m      2\u001b[0m \u001b[0mpath\u001b[0m \u001b[0;34m=\u001b[0m \u001b[0mPath\u001b[0m\u001b[0;34m(\u001b[0m\u001b[0;34m'downloads/\"รถสองแถว\"'\u001b[0m\u001b[0;34m)\u001b[0m\u001b[0;34m\u001b[0m\u001b[0;34m\u001b[0m\u001b[0m\n\u001b[1;32m      3\u001b[0m data = ImageDataBunch.from_folder(path, train=\".\", valid_pct=0.2,\n\u001b[0;32m----> 4\u001b[0;31m                                  ds_tfms=get_transforms(), size=224, num_workers=4).normailze(imagenet_stats)\n\u001b[0m",
      "\u001b[0;32m~/.virtualenvs/ml/lib/python3.6/site-packages/fastai/vision/data.py\u001b[0m in \u001b[0;36mfrom_folder\u001b[0;34m(cls, path, train, valid, test, valid_pct, seed, classes, **kwargs)\u001b[0m\n\u001b[1;32m    108\u001b[0m         \u001b[0;32mif\u001b[0m \u001b[0mvalid_pct\u001b[0m \u001b[0;32mis\u001b[0m \u001b[0;32mNone\u001b[0m\u001b[0;34m:\u001b[0m \u001b[0msrc\u001b[0m \u001b[0;34m=\u001b[0m \u001b[0mil\u001b[0m\u001b[0;34m.\u001b[0m\u001b[0msplit_by_folder\u001b[0m\u001b[0;34m(\u001b[0m\u001b[0mtrain\u001b[0m\u001b[0;34m=\u001b[0m\u001b[0mtrain\u001b[0m\u001b[0;34m,\u001b[0m \u001b[0mvalid\u001b[0m\u001b[0;34m=\u001b[0m\u001b[0mvalid\u001b[0m\u001b[0;34m)\u001b[0m\u001b[0;34m\u001b[0m\u001b[0;34m\u001b[0m\u001b[0m\n\u001b[1;32m    109\u001b[0m         \u001b[0;32melse\u001b[0m\u001b[0;34m:\u001b[0m \u001b[0msrc\u001b[0m \u001b[0;34m=\u001b[0m \u001b[0mil\u001b[0m\u001b[0;34m.\u001b[0m\u001b[0msplit_by_rand_pct\u001b[0m\u001b[0;34m(\u001b[0m\u001b[0mvalid_pct\u001b[0m\u001b[0;34m,\u001b[0m \u001b[0mseed\u001b[0m\u001b[0;34m)\u001b[0m\u001b[0;34m\u001b[0m\u001b[0;34m\u001b[0m\u001b[0m\n\u001b[0;32m--> 110\u001b[0;31m         \u001b[0msrc\u001b[0m \u001b[0;34m=\u001b[0m \u001b[0msrc\u001b[0m\u001b[0;34m.\u001b[0m\u001b[0mlabel_from_folder\u001b[0m\u001b[0;34m(\u001b[0m\u001b[0mclasses\u001b[0m\u001b[0;34m=\u001b[0m\u001b[0mclasses\u001b[0m\u001b[0;34m)\u001b[0m\u001b[0;34m\u001b[0m\u001b[0;34m\u001b[0m\u001b[0m\n\u001b[0m\u001b[1;32m    111\u001b[0m         \u001b[0;32mreturn\u001b[0m \u001b[0mcls\u001b[0m\u001b[0;34m.\u001b[0m\u001b[0mcreate_from_ll\u001b[0m\u001b[0;34m(\u001b[0m\u001b[0msrc\u001b[0m\u001b[0;34m,\u001b[0m \u001b[0mtest\u001b[0m\u001b[0;34m=\u001b[0m\u001b[0mtest\u001b[0m\u001b[0;34m,\u001b[0m \u001b[0;34m**\u001b[0m\u001b[0mkwargs\u001b[0m\u001b[0;34m)\u001b[0m\u001b[0;34m\u001b[0m\u001b[0;34m\u001b[0m\u001b[0m\n\u001b[1;32m    112\u001b[0m \u001b[0;34m\u001b[0m\u001b[0m\n",
      "\u001b[0;32m~/.virtualenvs/ml/lib/python3.6/site-packages/fastai/data_block.py\u001b[0m in \u001b[0;36m_inner\u001b[0;34m(*args, **kwargs)\u001b[0m\n\u001b[1;32m    473\u001b[0m         \u001b[0;32massert\u001b[0m \u001b[0misinstance\u001b[0m\u001b[0;34m(\u001b[0m\u001b[0mfv\u001b[0m\u001b[0;34m,\u001b[0m \u001b[0mCallable\u001b[0m\u001b[0;34m)\u001b[0m\u001b[0;34m\u001b[0m\u001b[0;34m\u001b[0m\u001b[0m\n\u001b[1;32m    474\u001b[0m         \u001b[0;32mdef\u001b[0m \u001b[0m_inner\u001b[0m\u001b[0;34m(\u001b[0m\u001b[0;34m*\u001b[0m\u001b[0margs\u001b[0m\u001b[0;34m,\u001b[0m \u001b[0;34m**\u001b[0m\u001b[0mkwargs\u001b[0m\u001b[0;34m)\u001b[0m\u001b[0;34m:\u001b[0m\u001b[0;34m\u001b[0m\u001b[0;34m\u001b[0m\u001b[0m\n\u001b[0;32m--> 475\u001b[0;31m             \u001b[0mself\u001b[0m\u001b[0;34m.\u001b[0m\u001b[0mtrain\u001b[0m \u001b[0;34m=\u001b[0m \u001b[0mft\u001b[0m\u001b[0;34m(\u001b[0m\u001b[0;34m*\u001b[0m\u001b[0margs\u001b[0m\u001b[0;34m,\u001b[0m \u001b[0mfrom_item_lists\u001b[0m\u001b[0;34m=\u001b[0m\u001b[0;32mTrue\u001b[0m\u001b[0;34m,\u001b[0m \u001b[0;34m**\u001b[0m\u001b[0mkwargs\u001b[0m\u001b[0;34m)\u001b[0m\u001b[0;34m\u001b[0m\u001b[0;34m\u001b[0m\u001b[0m\n\u001b[0m\u001b[1;32m    476\u001b[0m             \u001b[0;32massert\u001b[0m \u001b[0misinstance\u001b[0m\u001b[0;34m(\u001b[0m\u001b[0mself\u001b[0m\u001b[0;34m.\u001b[0m\u001b[0mtrain\u001b[0m\u001b[0;34m,\u001b[0m \u001b[0mLabelList\u001b[0m\u001b[0;34m)\u001b[0m\u001b[0;34m\u001b[0m\u001b[0;34m\u001b[0m\u001b[0m\n\u001b[1;32m    477\u001b[0m             \u001b[0mkwargs\u001b[0m\u001b[0;34m[\u001b[0m\u001b[0;34m'label_cls'\u001b[0m\u001b[0;34m]\u001b[0m \u001b[0;34m=\u001b[0m \u001b[0mself\u001b[0m\u001b[0;34m.\u001b[0m\u001b[0mtrain\u001b[0m\u001b[0;34m.\u001b[0m\u001b[0my\u001b[0m\u001b[0;34m.\u001b[0m\u001b[0m__class__\u001b[0m\u001b[0;34m\u001b[0m\u001b[0;34m\u001b[0m\u001b[0m\n",
      "\u001b[0;32m~/.virtualenvs/ml/lib/python3.6/site-packages/fastai/data_block.py\u001b[0m in \u001b[0;36mlabel_from_folder\u001b[0;34m(self, label_cls, **kwargs)\u001b[0m\n\u001b[1;32m    302\u001b[0m         \u001b[0;34m\"Give a label to each filename depending on its folder.\"\u001b[0m\u001b[0;34m\u001b[0m\u001b[0;34m\u001b[0m\u001b[0m\n\u001b[1;32m    303\u001b[0m         return self.label_from_func(func=lambda o: (o.parts if isinstance(o, Path) else o.split(os.path.sep))[-2],\n\u001b[0;32m--> 304\u001b[0;31m                                     label_cls=label_cls, **kwargs)\n\u001b[0m\u001b[1;32m    305\u001b[0m \u001b[0;34m\u001b[0m\u001b[0m\n\u001b[1;32m    306\u001b[0m     \u001b[0;32mdef\u001b[0m \u001b[0mlabel_from_re\u001b[0m\u001b[0;34m(\u001b[0m\u001b[0mself\u001b[0m\u001b[0;34m,\u001b[0m \u001b[0mpat\u001b[0m\u001b[0;34m:\u001b[0m\u001b[0mstr\u001b[0m\u001b[0;34m,\u001b[0m \u001b[0mfull_path\u001b[0m\u001b[0;34m:\u001b[0m\u001b[0mbool\u001b[0m\u001b[0;34m=\u001b[0m\u001b[0;32mFalse\u001b[0m\u001b[0;34m,\u001b[0m \u001b[0mlabel_cls\u001b[0m\u001b[0;34m:\u001b[0m\u001b[0mCallable\u001b[0m\u001b[0;34m=\u001b[0m\u001b[0;32mNone\u001b[0m\u001b[0;34m,\u001b[0m \u001b[0;34m**\u001b[0m\u001b[0mkwargs\u001b[0m\u001b[0;34m)\u001b[0m\u001b[0;34m->\u001b[0m\u001b[0;34m'LabelList'\u001b[0m\u001b[0;34m:\u001b[0m\u001b[0;34m\u001b[0m\u001b[0;34m\u001b[0m\u001b[0m\n",
      "\u001b[0;32m~/.virtualenvs/ml/lib/python3.6/site-packages/fastai/data_block.py\u001b[0m in \u001b[0;36mlabel_from_func\u001b[0;34m(self, func, label_cls, **kwargs)\u001b[0m\n\u001b[1;32m    297\u001b[0m     \u001b[0;32mdef\u001b[0m \u001b[0mlabel_from_func\u001b[0m\u001b[0;34m(\u001b[0m\u001b[0mself\u001b[0m\u001b[0;34m,\u001b[0m \u001b[0mfunc\u001b[0m\u001b[0;34m:\u001b[0m\u001b[0mCallable\u001b[0m\u001b[0;34m,\u001b[0m \u001b[0mlabel_cls\u001b[0m\u001b[0;34m:\u001b[0m\u001b[0mCallable\u001b[0m\u001b[0;34m=\u001b[0m\u001b[0;32mNone\u001b[0m\u001b[0;34m,\u001b[0m \u001b[0;34m**\u001b[0m\u001b[0mkwargs\u001b[0m\u001b[0;34m)\u001b[0m\u001b[0;34m->\u001b[0m\u001b[0;34m'LabelList'\u001b[0m\u001b[0;34m:\u001b[0m\u001b[0;34m\u001b[0m\u001b[0;34m\u001b[0m\u001b[0m\n\u001b[1;32m    298\u001b[0m         \u001b[0;34m\"Apply `func` to every input to get its label.\"\u001b[0m\u001b[0;34m\u001b[0m\u001b[0;34m\u001b[0m\u001b[0m\n\u001b[0;32m--> 299\u001b[0;31m         \u001b[0;32mreturn\u001b[0m \u001b[0mself\u001b[0m\u001b[0;34m.\u001b[0m\u001b[0m_label_from_list\u001b[0m\u001b[0;34m(\u001b[0m\u001b[0;34m[\u001b[0m\u001b[0mfunc\u001b[0m\u001b[0;34m(\u001b[0m\u001b[0mo\u001b[0m\u001b[0;34m)\u001b[0m \u001b[0;32mfor\u001b[0m \u001b[0mo\u001b[0m \u001b[0;32min\u001b[0m \u001b[0mself\u001b[0m\u001b[0;34m.\u001b[0m\u001b[0mitems\u001b[0m\u001b[0;34m]\u001b[0m\u001b[0;34m,\u001b[0m \u001b[0mlabel_cls\u001b[0m\u001b[0;34m=\u001b[0m\u001b[0mlabel_cls\u001b[0m\u001b[0;34m,\u001b[0m \u001b[0;34m**\u001b[0m\u001b[0mkwargs\u001b[0m\u001b[0;34m)\u001b[0m\u001b[0;34m\u001b[0m\u001b[0;34m\u001b[0m\u001b[0m\n\u001b[0m\u001b[1;32m    300\u001b[0m \u001b[0;34m\u001b[0m\u001b[0m\n\u001b[1;32m    301\u001b[0m     \u001b[0;32mdef\u001b[0m \u001b[0mlabel_from_folder\u001b[0m\u001b[0;34m(\u001b[0m\u001b[0mself\u001b[0m\u001b[0;34m,\u001b[0m \u001b[0mlabel_cls\u001b[0m\u001b[0;34m:\u001b[0m\u001b[0mCallable\u001b[0m\u001b[0;34m=\u001b[0m\u001b[0;32mNone\u001b[0m\u001b[0;34m,\u001b[0m \u001b[0;34m**\u001b[0m\u001b[0mkwargs\u001b[0m\u001b[0;34m)\u001b[0m\u001b[0;34m->\u001b[0m\u001b[0;34m'LabelList'\u001b[0m\u001b[0;34m:\u001b[0m\u001b[0;34m\u001b[0m\u001b[0;34m\u001b[0m\u001b[0m\n",
      "\u001b[0;32m~/.virtualenvs/ml/lib/python3.6/site-packages/fastai/data_block.py\u001b[0m in \u001b[0;36m_label_from_list\u001b[0;34m(self, labels, label_cls, from_item_lists, **kwargs)\u001b[0m\n\u001b[1;32m    272\u001b[0m             \u001b[0;32mraise\u001b[0m \u001b[0mException\u001b[0m\u001b[0;34m(\u001b[0m\u001b[0;34m\"Your data isn't split, if you don't want a validation set, please use `split_none`.\"\u001b[0m\u001b[0;34m)\u001b[0m\u001b[0;34m\u001b[0m\u001b[0;34m\u001b[0m\u001b[0m\n\u001b[1;32m    273\u001b[0m         \u001b[0mlabels\u001b[0m \u001b[0;34m=\u001b[0m \u001b[0marray\u001b[0m\u001b[0;34m(\u001b[0m\u001b[0mlabels\u001b[0m\u001b[0;34m,\u001b[0m \u001b[0mdtype\u001b[0m\u001b[0;34m=\u001b[0m\u001b[0mobject\u001b[0m\u001b[0;34m)\u001b[0m\u001b[0;34m\u001b[0m\u001b[0;34m\u001b[0m\u001b[0m\n\u001b[0;32m--> 274\u001b[0;31m         \u001b[0mlabel_cls\u001b[0m \u001b[0;34m=\u001b[0m \u001b[0mself\u001b[0m\u001b[0;34m.\u001b[0m\u001b[0mget_label_cls\u001b[0m\u001b[0;34m(\u001b[0m\u001b[0mlabels\u001b[0m\u001b[0;34m,\u001b[0m \u001b[0mlabel_cls\u001b[0m\u001b[0;34m=\u001b[0m\u001b[0mlabel_cls\u001b[0m\u001b[0;34m,\u001b[0m \u001b[0;34m**\u001b[0m\u001b[0mkwargs\u001b[0m\u001b[0;34m)\u001b[0m\u001b[0;34m\u001b[0m\u001b[0;34m\u001b[0m\u001b[0m\n\u001b[0m\u001b[1;32m    275\u001b[0m         \u001b[0my\u001b[0m \u001b[0;34m=\u001b[0m \u001b[0mlabel_cls\u001b[0m\u001b[0;34m(\u001b[0m\u001b[0mlabels\u001b[0m\u001b[0;34m,\u001b[0m \u001b[0mpath\u001b[0m\u001b[0;34m=\u001b[0m\u001b[0mself\u001b[0m\u001b[0;34m.\u001b[0m\u001b[0mpath\u001b[0m\u001b[0;34m,\u001b[0m \u001b[0;34m**\u001b[0m\u001b[0mkwargs\u001b[0m\u001b[0;34m)\u001b[0m\u001b[0;34m\u001b[0m\u001b[0;34m\u001b[0m\u001b[0m\n\u001b[1;32m    276\u001b[0m         \u001b[0mres\u001b[0m \u001b[0;34m=\u001b[0m \u001b[0mself\u001b[0m\u001b[0;34m.\u001b[0m\u001b[0m_label_list\u001b[0m\u001b[0;34m(\u001b[0m\u001b[0mx\u001b[0m\u001b[0;34m=\u001b[0m\u001b[0mself\u001b[0m\u001b[0;34m,\u001b[0m \u001b[0my\u001b[0m\u001b[0;34m=\u001b[0m\u001b[0my\u001b[0m\u001b[0;34m)\u001b[0m\u001b[0;34m\u001b[0m\u001b[0;34m\u001b[0m\u001b[0m\n",
      "\u001b[0;32m~/.virtualenvs/ml/lib/python3.6/site-packages/fastai/data_block.py\u001b[0m in \u001b[0;36mget_label_cls\u001b[0;34m(self, labels, label_cls, label_delim, **kwargs)\u001b[0m\n\u001b[1;32m    261\u001b[0m         \u001b[0;32mif\u001b[0m \u001b[0mself\u001b[0m\u001b[0;34m.\u001b[0m\u001b[0mlabel_cls\u001b[0m \u001b[0;32mis\u001b[0m \u001b[0;32mnot\u001b[0m \u001b[0;32mNone\u001b[0m\u001b[0;34m:\u001b[0m          \u001b[0;32mreturn\u001b[0m \u001b[0mself\u001b[0m\u001b[0;34m.\u001b[0m\u001b[0mlabel_cls\u001b[0m\u001b[0;34m\u001b[0m\u001b[0;34m\u001b[0m\u001b[0m\n\u001b[1;32m    262\u001b[0m         \u001b[0;32mif\u001b[0m \u001b[0mlabel_delim\u001b[0m \u001b[0;32mis\u001b[0m \u001b[0;32mnot\u001b[0m \u001b[0;32mNone\u001b[0m\u001b[0;34m:\u001b[0m             \u001b[0;32mreturn\u001b[0m \u001b[0mMultiCategoryList\u001b[0m\u001b[0;34m\u001b[0m\u001b[0;34m\u001b[0m\u001b[0m\n\u001b[0;32m--> 263\u001b[0;31m         \u001b[0mit\u001b[0m \u001b[0;34m=\u001b[0m \u001b[0mindex_row\u001b[0m\u001b[0;34m(\u001b[0m\u001b[0mlabels\u001b[0m\u001b[0;34m,\u001b[0m\u001b[0;36m0\u001b[0m\u001b[0;34m)\u001b[0m\u001b[0;34m\u001b[0m\u001b[0;34m\u001b[0m\u001b[0m\n\u001b[0m\u001b[1;32m    264\u001b[0m         \u001b[0;32mif\u001b[0m \u001b[0misinstance\u001b[0m\u001b[0;34m(\u001b[0m\u001b[0mit\u001b[0m\u001b[0;34m,\u001b[0m \u001b[0;34m(\u001b[0m\u001b[0mfloat\u001b[0m\u001b[0;34m,\u001b[0m \u001b[0mnp\u001b[0m\u001b[0;34m.\u001b[0m\u001b[0mfloat32\u001b[0m\u001b[0;34m)\u001b[0m\u001b[0;34m)\u001b[0m\u001b[0;34m:\u001b[0m \u001b[0;32mreturn\u001b[0m \u001b[0mFloatList\u001b[0m\u001b[0;34m\u001b[0m\u001b[0;34m\u001b[0m\u001b[0m\n\u001b[1;32m    265\u001b[0m         \u001b[0;32mif\u001b[0m \u001b[0misinstance\u001b[0m\u001b[0;34m(\u001b[0m\u001b[0mtry_int\u001b[0m\u001b[0;34m(\u001b[0m\u001b[0mit\u001b[0m\u001b[0;34m)\u001b[0m\u001b[0;34m,\u001b[0m \u001b[0;34m(\u001b[0m\u001b[0mstr\u001b[0m\u001b[0;34m,\u001b[0m \u001b[0mIntegral\u001b[0m\u001b[0;34m)\u001b[0m\u001b[0;34m)\u001b[0m\u001b[0;34m:\u001b[0m  \u001b[0;32mreturn\u001b[0m \u001b[0mCategoryList\u001b[0m\u001b[0;34m\u001b[0m\u001b[0;34m\u001b[0m\u001b[0m\n",
      "\u001b[0;32m~/.virtualenvs/ml/lib/python3.6/site-packages/fastai/core.py\u001b[0m in \u001b[0;36mindex_row\u001b[0;34m(a, idxs)\u001b[0m\n\u001b[1;32m    274\u001b[0m         \u001b[0;32mif\u001b[0m \u001b[0misinstance\u001b[0m\u001b[0;34m(\u001b[0m\u001b[0mres\u001b[0m\u001b[0;34m,\u001b[0m\u001b[0;34m(\u001b[0m\u001b[0mpd\u001b[0m\u001b[0;34m.\u001b[0m\u001b[0mDataFrame\u001b[0m\u001b[0;34m,\u001b[0m\u001b[0mpd\u001b[0m\u001b[0;34m.\u001b[0m\u001b[0mSeries\u001b[0m\u001b[0;34m)\u001b[0m\u001b[0;34m)\u001b[0m\u001b[0;34m:\u001b[0m \u001b[0;32mreturn\u001b[0m \u001b[0mres\u001b[0m\u001b[0;34m.\u001b[0m\u001b[0mcopy\u001b[0m\u001b[0;34m(\u001b[0m\u001b[0;34m)\u001b[0m\u001b[0;34m\u001b[0m\u001b[0;34m\u001b[0m\u001b[0m\n\u001b[1;32m    275\u001b[0m         \u001b[0;32mreturn\u001b[0m \u001b[0mres\u001b[0m\u001b[0;34m\u001b[0m\u001b[0;34m\u001b[0m\u001b[0m\n\u001b[0;32m--> 276\u001b[0;31m     \u001b[0;32mreturn\u001b[0m \u001b[0ma\u001b[0m\u001b[0;34m[\u001b[0m\u001b[0midxs\u001b[0m\u001b[0;34m]\u001b[0m\u001b[0;34m\u001b[0m\u001b[0;34m\u001b[0m\u001b[0m\n\u001b[0m\u001b[1;32m    277\u001b[0m \u001b[0;34m\u001b[0m\u001b[0m\n\u001b[1;32m    278\u001b[0m \u001b[0;32mdef\u001b[0m \u001b[0mfunc_args\u001b[0m\u001b[0;34m(\u001b[0m\u001b[0mfunc\u001b[0m\u001b[0;34m)\u001b[0m\u001b[0;34m->\u001b[0m\u001b[0mbool\u001b[0m\u001b[0;34m:\u001b[0m\u001b[0;34m\u001b[0m\u001b[0;34m\u001b[0m\u001b[0m\n",
      "\u001b[0;31mIndexError\u001b[0m: index 0 is out of bounds for axis 0 with size 0"
     ]
    }
   ],
   "source": [
    "np.random.seed(44)\n",
    "path = Path('downloads/\"รถสองแถว\"')\n",
    "data = ImageDataBunch.from_folder(path, train=\".\", valid_pct=0.2,\n",
    "                                 ds_tfms=get_transforms(), size=224, num_workers=4).normailze(imagenet_stats)"
   ]
  },
  {
   "cell_type": "code",
   "execution_count": null,
   "metadata": {},
   "outputs": [],
   "source": []
  }
 ],
 "metadata": {
  "kernelspec": {
   "display_name": "ML (fastai)",
   "language": "python",
   "name": "ml"
  },
  "language_info": {
   "codemirror_mode": {
    "name": "ipython",
    "version": 3
   },
   "file_extension": ".py",
   "mimetype": "text/x-python",
   "name": "python",
   "nbconvert_exporter": "python",
   "pygments_lexer": "ipython3",
   "version": "3.6.8"
  }
 },
 "nbformat": 4,
 "nbformat_minor": 4
}

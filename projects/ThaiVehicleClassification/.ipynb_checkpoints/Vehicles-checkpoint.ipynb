{
 "cells": [
  {
   "cell_type": "code",
   "execution_count": 1,
   "metadata": {},
   "outputs": [],
   "source": [
    "%matplotlib inline\n",
    "%reload_ext autoreload\n",
    "%autoreload 2"
   ]
  },
  {
   "cell_type": "code",
   "execution_count": 2,
   "metadata": {},
   "outputs": [],
   "source": [
    "from fastai.vision import *\n",
    "from fastai.metrics import error_rate\n",
    "import torch"
   ]
  },
  {
   "cell_type": "code",
   "execution_count": 3,
   "metadata": {},
   "outputs": [],
   "source": [
    "# batch size \n",
    "bs = 32"
   ]
  },
  {
   "cell_type": "code",
   "execution_count": 4,
   "metadata": {},
   "outputs": [
    {
     "data": {
      "text/plain": [
       "True"
      ]
     },
     "execution_count": 4,
     "metadata": {},
     "output_type": "execute_result"
    }
   ],
   "source": [
    "# check CUDA\n",
    "torch.cuda.is_available()"
   ]
  },
  {
   "cell_type": "markdown",
   "metadata": {},
   "source": [
    "## Create DataSet\n",
    "- using this tools https://github.com/phe-sto/google-images-download"
   ]
  },
  {
   "cell_type": "code",
   "execution_count": 11,
   "metadata": {},
   "outputs": [],
   "source": [
    "from google_images_download import google_images_download"
   ]
  },
  {
   "cell_type": "code",
   "execution_count": 18,
   "metadata": {},
   "outputs": [
    {
     "name": "stdout",
     "output_type": "stream",
     "text": [
      "({'รถสองแถว': ['/home/jakkrit/Desktop/Machine-Learning-Projects/Projects/ThaiVehicleClassification/downloads/รถสองแถว/1_ 1216.jpg', '/home/jakkrit/Desktop/Machine-Learning-Projects/Projects/ThaiVehicleClassification/downloads/รถสองแถว/2_ yusai_kk.png', '/home/jakkrit/Desktop/Machine-Learning-Projects/Projects/ThaiVehicleClassification/downloads/รถสองแถว/3_ songteaw-huahin.jpg', '/home/jakkrit/Desktop/Machine-Learning-Projects/Projects/ThaiVehicleClassification/downloads/รถสองแถว/4_ %e0%b8%a3%e0%b8%96%e0%b8%aa%e0%b8%ad%e0%b8%87%e0%b9%81%e0%b8%96%e0%b8%a7-%e0%b9%84%e0%b8%9b%e0%b9%84%e0%b8%ad%e0%b9%82%e0%b8%a1%e0%b8%9a%e0%b8%b2%e0%b8%a2.png', '/home/jakkrit/Desktop/Machine-Learning-Projects/Projects/ThaiVehicleClassification/downloads/รถสองแถว/5_ dsc0373-1024x680.jpg', '/home/jakkrit/Desktop/Machine-Learning-Projects/Projects/ThaiVehicleClassification/downloads/รถสองแถว/6_ %e0%b8%a3%e0%b8%96%e0%b8%aa%e0%b8%ad%e0%b8%87%e0%b9%81%e0%b8%96%e0%b8%a72.jpg', '/home/jakkrit/Desktop/Machine-Learning-Projects/Projects/ThaiVehicleClassification/downloads/รถสองแถว/7_ 20190828142049.jpg', '/home/jakkrit/Desktop/Machine-Learning-Projects/Projects/ThaiVehicleClassification/downloads/รถสองแถว/8_ ?media_id=158293908044049.jpg', '/home/jakkrit/Desktop/Machine-Learning-Projects/Projects/ThaiVehicleClassification/downloads/รถสองแถว/9_ 562000002281801.jpeg', '/home/jakkrit/Desktop/Machine-Learning-Projects/Projects/ThaiVehicleClassification/downloads/รถสองแถว/10_ %25e0%25b8%25a3%25e0%25b8%2596%25e0%25b8%25aa%25e0%25b8%25ad%25e0%25b8%2587%25e0%25b9%2581%25e0%25b8%2596%25e0%25b8%25a7.jpg', '/home/jakkrit/Desktop/Machine-Learning-Projects/Projects/ThaiVehicleClassification/downloads/รถสองแถว/11_ maxresdefault.jpg', '/home/jakkrit/Desktop/Machine-Learning-Projects/Projects/ThaiVehicleClassification/downloads/รถสองแถว/12_ huahin-palau-songteaw.jpg', '/home/jakkrit/Desktop/Machine-Learning-Projects/Projects/ThaiVehicleClassification/downloads/รถสองแถว/13_ 456819.jpg', '/home/jakkrit/Desktop/Machine-Learning-Projects/Projects/ThaiVehicleClassification/downloads/รถสองแถว/14_ lbs1317pca.jpg', '/home/jakkrit/Desktop/Machine-Learning-Projects/Projects/ThaiVehicleClassification/downloads/รถสองแถว/15_ ?media_id=457552937916803.jpg', '/home/jakkrit/Desktop/Machine-Learning-Projects/Projects/ThaiVehicleClassification/downloads/รถสองแถว/16_ %e0%b8%a3%e0%b8%96%e0%b8%aa%e0%b8%ad%e0%b8%87%e0%b9%81%e0%b8%96%e0%b8%a7%20%e0%b8%aa%e0%b8%81%e0%b8%a5%e0%b8%99%e0%b8%84%e0%b8%a3%2059%20%20(5).jpg', '/home/jakkrit/Desktop/Machine-Learning-Projects/Projects/ThaiVehicleClassification/downloads/รถสองแถว/17_ o4a91nnw6y9k7qqdd8r-o.jpg', '/home/jakkrit/Desktop/Machine-Learning-Projects/Projects/ThaiVehicleClassification/downloads/รถสองแถว/18_ 562000002281802.jpeg', '/home/jakkrit/Desktop/Machine-Learning-Projects/Projects/ThaiVehicleClassification/downloads/รถสองแถว/19_ maxresdefault.jpg', '/home/jakkrit/Desktop/Machine-Learning-Projects/Projects/ThaiVehicleClassification/downloads/รถสองแถว/20_ 33a7ae5aaaea499ba88935e6b51acf47.jpg', '/home/jakkrit/Desktop/Machine-Learning-Projects/Projects/ThaiVehicleClassification/downloads/รถสองแถว/21_ --02.jpg', '/home/jakkrit/Desktop/Machine-Learning-Projects/Projects/ThaiVehicleClassification/downloads/รถสองแถว/22_ ?media_id=1503658463275934.jpg', '/home/jakkrit/Desktop/Machine-Learning-Projects/Projects/ThaiVehicleClassification/downloads/รถสองแถว/23_ caption.jpg', '/home/jakkrit/Desktop/Machine-Learning-Projects/Projects/ThaiVehicleClassification/downloads/รถสองแถว/24_ 562000002281803.jpeg', '/home/jakkrit/Desktop/Machine-Learning-Projects/Projects/ThaiVehicleClassification/downloads/รถสองแถว/25_ 50804.jpg', '/home/jakkrit/Desktop/Machine-Learning-Projects/Projects/ThaiVehicleClassification/downloads/รถสองแถว/26_ 2222.jpg', '/home/jakkrit/Desktop/Machine-Learning-Projects/Projects/ThaiVehicleClassification/downloads/รถสองแถว/27_ id_30563_58bf9024c0b9e.jpg', '/home/jakkrit/Desktop/Machine-Learning-Projects/Projects/ThaiVehicleClassification/downloads/รถสองแถว/28_ cover_2row_00.jpg', '/home/jakkrit/Desktop/Machine-Learning-Projects/Projects/ThaiVehicleClassification/downloads/รถสองแถว/29_ ?media_id=773188522695938.jpg', '/home/jakkrit/Desktop/Machine-Learning-Projects/Projects/ThaiVehicleClassification/downloads/รถสองแถว/30_ %e0%b8%a3%e0%b8%96%e0%b8%aa%e0%b8%ad%e0%b8%87%e0%b9%81%e0%b8%96%e0%b8%a77-700x525.jpg', '/home/jakkrit/Desktop/Machine-Learning-Projects/Projects/ThaiVehicleClassification/downloads/รถสองแถว/31_ news29427_855.jpg', '/home/jakkrit/Desktop/Machine-Learning-Projects/Projects/ThaiVehicleClassification/downloads/รถสองแถว/32_ s_193728_1180.jpg', '/home/jakkrit/Desktop/Machine-Learning-Projects/Projects/ThaiVehicleClassification/downloads/รถสองแถว/33_ 4dqpjutzluwmjzzpgsaxoza6nugtrem7ejohsqdqrhqp.jpg', '/home/jakkrit/Desktop/Machine-Learning-Projects/Projects/ThaiVehicleClassification/downloads/รถสองแถว/34_ om5a9sjcp1x9dddoebh-o.jpg', '/home/jakkrit/Desktop/Machine-Learning-Projects/Projects/ThaiVehicleClassification/downloads/รถสองแถว/35_ songtaew-phuket1.jpg', '/home/jakkrit/Desktop/Machine-Learning-Projects/Projects/ThaiVehicleClassification/downloads/รถสองแถว/36_ dsc_0268.jpg', '/home/jakkrit/Desktop/Machine-Learning-Projects/Projects/ThaiVehicleClassification/downloads/รถสองแถว/37_ 2348f7d03c774ac387d6170a56c32502.jpg', '/home/jakkrit/Desktop/Machine-Learning-Projects/Projects/ThaiVehicleClassification/downloads/รถสองแถว/38_ w644.jpg', '/home/jakkrit/Desktop/Machine-Learning-Projects/Projects/ThaiVehicleClassification/downloads/รถสองแถว/39_ f27e72d8eccd9cb950ca32d761c4059f.jpeg', '/home/jakkrit/Desktop/Machine-Learning-Projects/Projects/ThaiVehicleClassification/downloads/รถสองแถว/40_ image_750x_5d1c7f59f4197.jpg', '/home/jakkrit/Desktop/Machine-Learning-Projects/Projects/ThaiVehicleClassification/downloads/รถสองแถว/41_ 20190227_110208-1280x720.jpg', '/home/jakkrit/Desktop/Machine-Learning-Projects/Projects/ThaiVehicleClassification/downloads/รถสองแถว/42_ img_display.jpg', '/home/jakkrit/Desktop/Machine-Learning-Projects/Projects/ThaiVehicleClassification/downloads/รถสองแถว/43_ 1368685138-45311201-o.jpg', '/home/jakkrit/Desktop/Machine-Learning-Projects/Projects/ThaiVehicleClassification/downloads/รถสองแถว/44_ 2.png', '', '/home/jakkrit/Desktop/Machine-Learning-Projects/Projects/ThaiVehicleClassification/downloads/รถสองแถว/46_ 4-23.jpg', '/home/jakkrit/Desktop/Machine-Learning-Projects/Projects/ThaiVehicleClassification/downloads/รถสองแถว/47_ b40ca9eeac509753db09450e36041ece33859052c43c34d041c14b53741549ac.jpg', '/home/jakkrit/Desktop/Machine-Learning-Projects/Projects/ThaiVehicleClassification/downloads/รถสองแถว/48_ %e0%b8%9b%e0%b8%81-2-%e0%b9%81%e0%b8%96%e0%b8%a7-1.jpg', '/home/jakkrit/Desktop/Machine-Learning-Projects/Projects/ThaiVehicleClassification/downloads/รถสองแถว/49_ 5_15.jpg', '/home/jakkrit/Desktop/Machine-Learning-Projects/Projects/ThaiVehicleClassification/downloads/รถสองแถว/50_ 52360837_1-%e0%b8%a3%e0%b8%96%e0%b8%aa%e0%b8%ad%e0%b8%87%e0%b9%81%e0%b8%96%e0%b8%a7.jpg', '/home/jakkrit/Desktop/Machine-Learning-Projects/Projects/ThaiVehicleClassification/downloads/รถสองแถว/51_ 456819.jpg', '/home/jakkrit/Desktop/Machine-Learning-Projects/Projects/ThaiVehicleClassification/downloads/รถสองแถว/52_ ?media_id=158011084738998.jpg', '/home/jakkrit/Desktop/Machine-Learning-Projects/Projects/ThaiVehicleClassification/downloads/รถสองแถว/53_ 925.jpg', '/home/jakkrit/Desktop/Machine-Learning-Projects/Projects/ThaiVehicleClassification/downloads/รถสองแถว/54_ pr_news14525.jpg', '/home/jakkrit/Desktop/Machine-Learning-Projects/Projects/ThaiVehicleClassification/downloads/รถสองแถว/55_ 000-163-1280x720.jpg', '/home/jakkrit/Desktop/Machine-Learning-Projects/Projects/ThaiVehicleClassification/downloads/รถสองแถว/56_ 4585858125.jpg', '/home/jakkrit/Desktop/Machine-Learning-Projects/Projects/ThaiVehicleClassification/downloads/รถสองแถว/57_ %25e0%25b8%25aa%25e0%25b8%25ad%25e0%25b8%2587%25e0%25b9%2581%25e0%25b8%2596%25e0%25b8%25a71-01.jpg', '/home/jakkrit/Desktop/Machine-Learning-Projects/Projects/ThaiVehicleClassification/downloads/รถสองแถว/58_ news46698_855.jpg', '', '/home/jakkrit/Desktop/Machine-Learning-Projects/Projects/ThaiVehicleClassification/downloads/รถสองแถว/60_ img_0034.jpg', '/home/jakkrit/Desktop/Machine-Learning-Projects/Projects/ThaiVehicleClassification/downloads/รถสองแถว/61_ 1311.jpg', '/home/jakkrit/Desktop/Machine-Learning-Projects/Projects/ThaiVehicleClassification/downloads/รถสองแถว/62_ 4dqpjutzluwmjzzpg19q68cqxzg3sfc8akyimfbgjcyv.jpg', '/home/jakkrit/Desktop/Machine-Learning-Projects/Projects/ThaiVehicleClassification/downloads/รถสองแถว/63_ nz76mb9mehnemxak5e6-o.jpg', '/home/jakkrit/Desktop/Machine-Learning-Projects/Projects/ThaiVehicleClassification/downloads/รถสองแถว/64_ 1364868037-11-o.jpg', '/home/jakkrit/Desktop/Machine-Learning-Projects/Projects/ThaiVehicleClassification/downloads/รถสองแถว/65_ 42337b53-41765464_1608845542554603_2099410147775348736_o-e1536977227891-800x531.jpg', '/home/jakkrit/Desktop/Machine-Learning-Projects/Projects/ThaiVehicleClassification/downloads/รถสองแถว/66_ 5ab60784-d4db-4888-8615-0a38b07803bf.jpeg', '/home/jakkrit/Desktop/Machine-Learning-Projects/Projects/ThaiVehicleClassification/downloads/รถสองแถว/67_ img_0025.jpg', '/home/jakkrit/Desktop/Machine-Learning-Projects/Projects/ThaiVehicleClassification/downloads/รถสองแถว/68_ c8231514-8a36-4584-ad6e-d08ea0584a41_cx0_cy7_cw0_w408_r1_s.jpg', '/home/jakkrit/Desktop/Machine-Learning-Projects/Projects/ThaiVehicleClassification/downloads/รถสองแถว/69_ %e0%b8%9b%e0%b8%a3%e0%b8%b0%e0%b8%a2%e0%b8%b8%e0%b8%97%e0%b8%98%e0%b9%8c-%e0%b8%82%e0%b8%b1%e0%b8%9a%e0%b8%a3%e0%b8%963-700x466.jpg', '/home/jakkrit/Desktop/Machine-Learning-Projects/Projects/ThaiVehicleClassification/downloads/รถสองแถว/70_ 999%e0%b8%ad%e0%b8%a2%e0%b8%b8%e0%b8%98%e0%b8%a2%e0%b8%b2(2).jpg', '/home/jakkrit/Desktop/Machine-Learning-Projects/Projects/ThaiVehicleClassification/downloads/รถสองแถว/71_ lbs1317pcb.jpg', '/home/jakkrit/Desktop/Machine-Learning-Projects/Projects/ThaiVehicleClassification/downloads/รถสองแถว/72_ %e0%b8%aa%e0%b8%ad%e0%b8%87%e0%b9%81%e0%b8%96%e0%b8%a7-1.jpg', '/home/jakkrit/Desktop/Machine-Learning-Projects/Projects/ThaiVehicleClassification/downloads/รถสองแถว/73_ icom%e0%b8%a3%e0%b8%96png.jpg', '/home/jakkrit/Desktop/Machine-Learning-Projects/Projects/ThaiVehicleClassification/downloads/รถสองแถว/74_ %e0%b8%aa%e0%b8%ad%e0%b8%87%e0%b9%81%e0%b8%96%e0%b8%a7.jpg', '/home/jakkrit/Desktop/Machine-Learning-Projects/Projects/ThaiVehicleClassification/downloads/รถสองแถว/75_ dsc_0257.jpg', '/home/jakkrit/Desktop/Machine-Learning-Projects/Projects/ThaiVehicleClassification/downloads/รถสองแถว/76_ ahr0chm6ly9zlmlzyw5vb2suy29tl25zlzavdwqvmtu1mc83nzuymdu1lzquanbn.jpg', '/home/jakkrit/Desktop/Machine-Learning-Projects/Projects/ThaiVehicleClassification/downloads/รถสองแถว/77_ %e0%b8%9b%e0%b9%89%e0%b8%b2%e0%b8%a2%e0%b8%82%e0%b9%89%e0%b8%b2%e0%b8%87%e0%b8%a3%e0%b8%96%e0%b8%aa%e0%b8%ad%e0%b8%87%e0%b9%81%e0%b8%96%e0%b8%a7%20%e0%b8%99%e0%b8%84%e0%b8%a3%e0%b8%9e%e0%b8%99%e0%b8%a1%2059%20(4).jpg', '/home/jakkrit/Desktop/Machine-Learning-Projects/Projects/ThaiVehicleClassification/downloads/รถสองแถว/78_ 05.jpg', '/home/jakkrit/Desktop/Machine-Learning-Projects/Projects/ThaiVehicleClassification/downloads/รถสองแถว/79_ 5c7d007903da8.jpg', '/home/jakkrit/Desktop/Machine-Learning-Projects/Projects/ThaiVehicleClassification/downloads/รถสองแถว/80_ %e0%b9%82%e0%b8%86%e0%b8%a9%e0%b8%93%e0%b8%b2-%e0%b8%82%e0%b9%89%e0%b8%b2%e0%b8%87%e0%b8%a3%e0%b8%96%e0%b8%aa%e0%b8%ad%e0%b8%87%e0%b9%81%e0%b8%96%e0%b8%a7-02.jpg', '/home/jakkrit/Desktop/Machine-Learning-Projects/Projects/ThaiVehicleClassification/downloads/รถสองแถว/81_ img_9928.jpg', '/home/jakkrit/Desktop/Machine-Learning-Projects/Projects/ThaiVehicleClassification/downloads/รถสองแถว/82_ phglma7uf2fmd9ftw2fx-o.jpg', '/home/jakkrit/Desktop/Machine-Learning-Projects/Projects/ThaiVehicleClassification/downloads/รถสองแถว/83_ g0dl5opyrtt5hbai37ttyysyyl64f0phjcodgiyhnk4htz9hd67uma.jpg', '/home/jakkrit/Desktop/Machine-Learning-Projects/Projects/ThaiVehicleClassification/downloads/รถสองแถว/84_ ?media_id=167106847217832.jpg', '/home/jakkrit/Desktop/Machine-Learning-Projects/Projects/ThaiVehicleClassification/downloads/รถสองแถว/85_ 19215.jpg', '/home/jakkrit/Desktop/Machine-Learning-Projects/Projects/ThaiVehicleClassification/downloads/รถสองแถว/86_ 1550629807_84754_vlcsnap-2019-02-20-09h21m21s440.jpg', '/home/jakkrit/Desktop/Machine-Learning-Projects/Projects/ThaiVehicleClassification/downloads/รถสองแถว/87_ image_big_5b25c0a807bda.jpg', '/home/jakkrit/Desktop/Machine-Learning-Projects/Projects/ThaiVehicleClassification/downloads/รถสองแถว/88_ a4(33).jpg', '/home/jakkrit/Desktop/Machine-Learning-Projects/Projects/ThaiVehicleClassification/downloads/รถสองแถว/89_ 2015f61d-ceee-466d-9695-ab42a8438025.jpg', '/home/jakkrit/Desktop/Machine-Learning-Projects/Projects/ThaiVehicleClassification/downloads/รถสองแถว/90_ cjrw4mivaaefell.jpg', '/home/jakkrit/Desktop/Machine-Learning-Projects/Projects/ThaiVehicleClassification/downloads/รถสองแถว/91_ 561000002295301.jpeg', '/home/jakkrit/Desktop/Machine-Learning-Projects/Projects/ThaiVehicleClassification/downloads/รถสองแถว/92_ 201611111458552-20150518130435.jpg', '/home/jakkrit/Desktop/Machine-Learning-Projects/Projects/ThaiVehicleClassification/downloads/รถสองแถว/93_ %e0%b9%82%e0%b8%9b%e0%b9%8a-%e0%b8%a3%e0%b8%96%e0%b8%aa%e0%b8%ad%e0%b8%87%e0%b9%81%e0%b8%96%e0%b8%a7-cover1.jpg', '/home/jakkrit/Desktop/Machine-Learning-Projects/Projects/ThaiVehicleClassification/downloads/รถสองแถว/94_ 11-7.jpg', '/home/jakkrit/Desktop/Machine-Learning-Projects/Projects/ThaiVehicleClassification/downloads/รถสองแถว/95_ content-458850-835ff75471930dc7bcf5da26acf7792e.jpg', '/home/jakkrit/Desktop/Machine-Learning-Projects/Projects/ThaiVehicleClassification/downloads/รถสองแถว/96_ %e0%b8%a5%e0%b8%b8%e0%b8%87.jpg']}, 'https://www.google.com/search?q=%E0%B8%A3%E0%B8%96%E0%B8%AA%E0%B8%AD%E0%B8%87%E0%B9%81%E0%B8%96%E0%B8%A7&espv=2&biw=1366&bih=667&site=webhp&source=lnms&tbm=isch&tbs=&sa=X&ei=XosDVaCXD8TasATItgE&ved=0CAcQ_AUoAg')\n"
     ]
    }
   ],
   "source": [
    "res = google_images_download.GoogleImageDownload({\"keywords\": \"รถสองแถว\", \"print_urls\": True}) \n",
    "paths = res.download()\n",
    "print(paths)"
   ]
  },
  {
   "cell_type": "markdown",
   "metadata": {},
   "source": [
    "### Upload files to Colab (just in case of training on TPU)"
   ]
  },
  {
   "cell_type": "code",
   "execution_count": null,
   "metadata": {
    "collapsed": true,
    "jupyter": {
     "outputs_hidden": true
    }
   },
   "outputs": [
    {
     "name": "stderr",
     "output_type": "stream",
     "text": [
      "[autoreload of IPython.core.ultratb failed: Traceback (most recent call last):\n",
      "  File \"/home/jakkrit/.virtualenvs/fastai/lib/python3.6/site-packages/IPython/extensions/autoreload.py\", line 245, in check\n",
      "    if do_reload:\n",
      "  File \"/home/jakkrit/.virtualenvs/fastai/lib/python3.6/site-packages/IPython/extensions/autoreload.py\", line 394, in superreload\n",
      "  File \"/home/jakkrit/.virtualenvs/fastai/lib/python3.6/imp.py\", line 315, in reload\n",
      "    return importlib.reload(module)\n",
      "  File \"/home/jakkrit/.virtualenvs/fastai/lib/python3.6/importlib/__init__.py\", line 166, in reload\n",
      "    _bootstrap._exec(spec, module)\n",
      "  File \"<frozen importlib._bootstrap>\", line 618, in _exec\n",
      "  File \"<frozen importlib._bootstrap_external>\", line 678, in exec_module\n",
      "  File \"<frozen importlib._bootstrap>\", line 219, in _call_with_frames_removed\n",
      "  File \"/home/jakkrit/.virtualenvs/fastai/lib/python3.6/site-packages/IPython/core/ultratb.py\", line 131, in <module>\n",
      "    import IPython.utils.colorable as colorable\n",
      "AttributeError: module 'IPython' has no attribute 'utils'\n",
      "]\n",
      "[autoreload of IPython.utils.ipstruct failed: Traceback (most recent call last):\n",
      "  File \"/home/jakkrit/.virtualenvs/fastai/lib/python3.6/site-packages/IPython/extensions/autoreload.py\", line 245, in check\n",
      "    if do_reload:\n",
      "  File \"/home/jakkrit/.virtualenvs/fastai/lib/python3.6/site-packages/IPython/extensions/autoreload.py\", line 410, in superreload\n",
      "    # IPython connectivity\n",
      "  File \"/home/jakkrit/.virtualenvs/fastai/lib/python3.6/site-packages/IPython/extensions/autoreload.py\", line 347, in update_generic\n",
      "  File \"/home/jakkrit/.virtualenvs/fastai/lib/python3.6/site-packages/IPython/extensions/autoreload.py\", line 317, in update_class\n",
      "    update_property),\n",
      "  File \"/home/jakkrit/.virtualenvs/fastai/lib/python3.6/site-packages/IPython/extensions/autoreload.py\", line 280, in update_instances\n",
      "    old_obj = getattr(old, key)\n",
      "  File \"/home/jakkrit/.virtualenvs/fastai/lib/python3.6/site-packages/IPython/utils/ipstruct.py\", line 118, in __setattr__\n",
      "    'attr %s is a protected member of class Struct.' % key\n",
      "AttributeError: attr __class__ is a protected member of class Struct.\n",
      "]\n",
      "[autoreload of IPython.core.display failed: Traceback (most recent call last):\n",
      "  File \"/home/jakkrit/.virtualenvs/fastai/lib/python3.6/site-packages/IPython/extensions/autoreload.py\", line 245, in check\n",
      "    if do_reload:\n",
      "  File \"/home/jakkrit/.virtualenvs/fastai/lib/python3.6/site-packages/IPython/extensions/autoreload.py\", line 410, in superreload\n",
      "    # IPython connectivity\n",
      "  File \"/home/jakkrit/.virtualenvs/fastai/lib/python3.6/site-packages/IPython/extensions/autoreload.py\", line 347, in update_generic\n",
      "  File \"/home/jakkrit/.virtualenvs/fastai/lib/python3.6/site-packages/IPython/extensions/autoreload.py\", line 302, in update_class\n",
      "    update_generic(old.fdel, new.fdel)\n",
      "  File \"/home/jakkrit/.virtualenvs/fastai/lib/python3.6/site-packages/IPython/extensions/autoreload.py\", line 347, in update_generic\n",
      "  File \"/home/jakkrit/.virtualenvs/fastai/lib/python3.6/site-packages/IPython/extensions/autoreload.py\", line 266, in update_function\n",
      "ValueError: __init__() requires a code object with 1 free vars, not 0\n",
      "]\n",
      "[autoreload of IPython.terminal.interactiveshell failed: Traceback (most recent call last):\n",
      "  File \"/home/jakkrit/.virtualenvs/fastai/lib/python3.6/site-packages/IPython/extensions/autoreload.py\", line 245, in check\n",
      "    if do_reload:\n",
      "  File \"/home/jakkrit/.virtualenvs/fastai/lib/python3.6/site-packages/IPython/extensions/autoreload.py\", line 394, in superreload\n",
      "  File \"/home/jakkrit/.virtualenvs/fastai/lib/python3.6/imp.py\", line 315, in reload\n",
      "    return importlib.reload(module)\n",
      "  File \"/home/jakkrit/.virtualenvs/fastai/lib/python3.6/importlib/__init__.py\", line 166, in reload\n",
      "    _bootstrap._exec(spec, module)\n",
      "  File \"<frozen importlib._bootstrap>\", line 618, in _exec\n",
      "  File \"<frozen importlib._bootstrap_external>\", line 678, in exec_module\n",
      "  File \"<frozen importlib._bootstrap>\", line 219, in _call_with_frames_removed\n",
      "  File \"/home/jakkrit/.virtualenvs/fastai/lib/python3.6/site-packages/IPython/terminal/interactiveshell.py\", line 20, in <module>\n",
      "    from prompt_toolkit.shortcuts import create_prompt_application, create_eventloop, create_prompt_layout, create_output\n",
      "ImportError: cannot import name 'create_prompt_application'\n",
      "]\n",
      "[autoreload of IPython.terminal.debugger failed: Traceback (most recent call last):\n",
      "  File \"/home/jakkrit/.virtualenvs/fastai/lib/python3.6/site-packages/IPython/extensions/autoreload.py\", line 245, in check\n",
      "    if do_reload:\n",
      "  File \"/home/jakkrit/.virtualenvs/fastai/lib/python3.6/site-packages/IPython/extensions/autoreload.py\", line 394, in superreload\n",
      "  File \"/home/jakkrit/.virtualenvs/fastai/lib/python3.6/imp.py\", line 315, in reload\n",
      "    return importlib.reload(module)\n",
      "  File \"/home/jakkrit/.virtualenvs/fastai/lib/python3.6/importlib/__init__.py\", line 166, in reload\n",
      "    _bootstrap._exec(spec, module)\n",
      "  File \"<frozen importlib._bootstrap>\", line 618, in _exec\n",
      "  File \"<frozen importlib._bootstrap_external>\", line 678, in exec_module\n",
      "  File \"<frozen importlib._bootstrap>\", line 219, in _call_with_frames_removed\n",
      "  File \"/home/jakkrit/.virtualenvs/fastai/lib/python3.6/site-packages/IPython/terminal/debugger.py\", line 14, in <module>\n",
      "    from prompt_toolkit.key_binding.manager import KeyBindingManager\n",
      "ModuleNotFoundError: No module named 'prompt_toolkit.key_binding.manager'\n",
      "]\n",
      "[autoreload of IPython.utils.generics failed: Traceback (most recent call last):\n",
      "  File \"/home/jakkrit/.virtualenvs/fastai/lib/python3.6/site-packages/IPython/extensions/autoreload.py\", line 245, in check\n",
      "    if do_reload:\n",
      "  File \"/home/jakkrit/.virtualenvs/fastai/lib/python3.6/site-packages/IPython/extensions/autoreload.py\", line 410, in superreload\n",
      "    # IPython connectivity\n",
      "  File \"/home/jakkrit/.virtualenvs/fastai/lib/python3.6/site-packages/IPython/extensions/autoreload.py\", line 347, in update_generic\n",
      "  File \"/home/jakkrit/.virtualenvs/fastai/lib/python3.6/site-packages/IPython/extensions/autoreload.py\", line 266, in update_function\n",
      "ValueError: inspect_object() requires a code object with 2 free vars, not 4\n",
      "]\n",
      "[autoreload of IPython.terminal.ptutils failed: Traceback (most recent call last):\n",
      "  File \"/home/jakkrit/.virtualenvs/fastai/lib/python3.6/site-packages/IPython/extensions/autoreload.py\", line 245, in check\n",
      "    if do_reload:\n",
      "  File \"/home/jakkrit/.virtualenvs/fastai/lib/python3.6/site-packages/IPython/extensions/autoreload.py\", line 394, in superreload\n",
      "  File \"/home/jakkrit/.virtualenvs/fastai/lib/python3.6/imp.py\", line 315, in reload\n",
      "    return importlib.reload(module)\n",
      "  File \"/home/jakkrit/.virtualenvs/fastai/lib/python3.6/importlib/__init__.py\", line 166, in reload\n",
      "    _bootstrap._exec(spec, module)\n",
      "  File \"<frozen importlib._bootstrap>\", line 618, in _exec\n",
      "  File \"<frozen importlib._bootstrap_external>\", line 678, in exec_module\n",
      "  File \"<frozen importlib._bootstrap>\", line 219, in _call_with_frames_removed\n",
      "  File \"/home/jakkrit/.virtualenvs/fastai/lib/python3.6/site-packages/IPython/terminal/ptutils.py\", line 17, in <module>\n",
      "    from prompt_toolkit.layout.lexers import Lexer\n",
      "ModuleNotFoundError: No module named 'prompt_toolkit.layout.lexers'\n",
      "]\n",
      "[autoreload of IPython.terminal.shortcuts failed: Traceback (most recent call last):\n",
      "  File \"/home/jakkrit/.virtualenvs/fastai/lib/python3.6/site-packages/IPython/extensions/autoreload.py\", line 245, in check\n",
      "    if do_reload:\n",
      "  File \"/home/jakkrit/.virtualenvs/fastai/lib/python3.6/site-packages/IPython/extensions/autoreload.py\", line 394, in superreload\n",
      "  File \"/home/jakkrit/.virtualenvs/fastai/lib/python3.6/imp.py\", line 315, in reload\n",
      "    return importlib.reload(module)\n",
      "  File \"/home/jakkrit/.virtualenvs/fastai/lib/python3.6/importlib/__init__.py\", line 166, in reload\n",
      "    _bootstrap._exec(spec, module)\n",
      "  File \"<frozen importlib._bootstrap>\", line 618, in _exec\n",
      "  File \"<frozen importlib._bootstrap_external>\", line 678, in exec_module\n",
      "  File \"<frozen importlib._bootstrap>\", line 219, in _call_with_frames_removed\n",
      "  File \"/home/jakkrit/.virtualenvs/fastai/lib/python3.6/site-packages/IPython/terminal/shortcuts.py\", line 13, in <module>\n",
      "    @Condition\n",
      "  File \"/home/jakkrit/.virtualenvs/fastai/lib/python3.6/site-packages/prompt_toolkit/filters/base.py\", line 212, in __init__\n",
      "    assert test_callable_args(func, [])\n",
      "AssertionError\n",
      "]\n",
      "[autoreload of IPython.lib.clipboard failed: Traceback (most recent call last):\n",
      "  File \"/home/jakkrit/.virtualenvs/fastai/lib/python3.6/site-packages/IPython/extensions/autoreload.py\", line 245, in check\n",
      "    if do_reload:\n",
      "  File \"/home/jakkrit/.virtualenvs/fastai/lib/python3.6/site-packages/IPython/extensions/autoreload.py\", line 394, in superreload\n",
      "  File \"/home/jakkrit/.virtualenvs/fastai/lib/python3.6/imp.py\", line 315, in reload\n",
      "    return importlib.reload(module)\n",
      "  File \"/home/jakkrit/.virtualenvs/fastai/lib/python3.6/importlib/__init__.py\", line 166, in reload\n",
      "    _bootstrap._exec(spec, module)\n",
      "  File \"<frozen importlib._bootstrap>\", line 618, in _exec\n",
      "  File \"<frozen importlib._bootstrap_external>\", line 678, in exec_module\n",
      "  File \"<frozen importlib._bootstrap>\", line 219, in _call_with_frames_removed\n",
      "  File \"/home/jakkrit/.virtualenvs/fastai/lib/python3.6/site-packages/IPython/lib/clipboard.py\", line 7, in <module>\n",
      "    import IPython.utils.py3compat as py3compat\n",
      "AttributeError: module 'IPython' has no attribute 'utils'\n",
      "]\n",
      "[autoreload of IPython.terminal.prompts failed: Traceback (most recent call last):\n",
      "  File \"/home/jakkrit/.virtualenvs/fastai/lib/python3.6/site-packages/IPython/extensions/autoreload.py\", line 245, in check\n",
      "    if do_reload:\n",
      "  File \"/home/jakkrit/.virtualenvs/fastai/lib/python3.6/site-packages/IPython/extensions/autoreload.py\", line 394, in superreload\n",
      "  File \"/home/jakkrit/.virtualenvs/fastai/lib/python3.6/imp.py\", line 315, in reload\n",
      "    return importlib.reload(module)\n",
      "  File \"/home/jakkrit/.virtualenvs/fastai/lib/python3.6/importlib/__init__.py\", line 166, in reload\n",
      "    _bootstrap._exec(spec, module)\n",
      "  File \"<frozen importlib._bootstrap>\", line 618, in _exec\n",
      "  File \"<frozen importlib._bootstrap_external>\", line 678, in exec_module\n",
      "  File \"<frozen importlib._bootstrap>\", line 219, in _call_with_frames_removed\n",
      "  File \"/home/jakkrit/.virtualenvs/fastai/lib/python3.6/site-packages/IPython/terminal/prompts.py\", line 9, in <module>\n",
      "    from prompt_toolkit.layout.utils import token_list_width\n",
      "ImportError: cannot import name 'token_list_width'\n",
      "]\n"
     ]
    }
   ],
   "source": [
    "from google.colab import files\n",
    "uploaded = files.upload()\n",
    " \n",
    "for fn in uploaded.keys():\n",
    "  print('User uploaded file \"{name}\" with length {length} bytes'.format(\n",
    "      name=fn, length=len(uploaded[fn])))"
   ]
  },
  {
   "cell_type": "code",
   "execution_count": null,
   "metadata": {},
   "outputs": [],
   "source": []
  }
 ],
 "metadata": {
  "kernelspec": {
   "display_name": "ML (fastai)",
   "language": "python",
   "name": "ml"
  },
  "language_info": {
   "codemirror_mode": {
    "name": "ipython",
    "version": 3
   },
   "file_extension": ".py",
   "mimetype": "text/x-python",
   "name": "python",
   "nbconvert_exporter": "python",
   "pygments_lexer": "ipython3",
   "version": "3.6.8"
  }
 },
 "nbformat": 4,
 "nbformat_minor": 4
}
